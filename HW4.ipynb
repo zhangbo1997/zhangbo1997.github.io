{
 "cells": [
  {
   "cell_type": "markdown",
   "metadata": {},
   "source": [
    "# HW4 : A visit to the movie zoo!\n",
    "\n",
    "![](https://vignette.wikia.nocookie.net/bojackhorseman/images/f/f2/HSACWDTK%3FDTKT%3FLFO%21%21.png/revision/latest?cb=20150720050503)"
   ]
  },
  {
   "cell_type": "markdown",
   "metadata": {},
   "source": [
    "## Task\n",
    "In this homework, your task is to visualize THREE non-typical charts on anything related to your favorite **movie star!**\n",
    "This means you CANNOT use the Big 4 chart types or their close variants (i.e. Pie, Bar, Line and Scatter, Area, etc.)\n",
    "\n",
    "You are free to use any other chart type whether or not they were covered in class!\n",
    "The lecture on Visit To The Zoo is a good place to start to get ideas on what kinds of charts exist.\n",
    "\n",
    "For the data, you are free to use any data source you deem fit.\n",
    "For charting, we will NOT be constraining the technology you use. \n",
    "You are free to produce the charts in any way you would like.\n",
    "\n",
    "You will be judged on\n",
    "* Creativity\n",
    "* Presentation Quality\n",
    "* Data Quality (Did your visualization reveal something interesting?)\n",
    "\n",
    "For extra credit, you can make a fully interactive visualization."
   ]
  },
  {
   "cell_type": "markdown",
   "metadata": {},
   "source": [
    "## Ideas for Data Collection\n",
    "\n",
    "Here, we show an example of how to collect data about Arnold Schwarzenegger!\n",
    "Do note that this is just an example of the kind of data you can collect.\n",
    "You are **NOT** constrained\n",
    "* To the same movie star (you can pick your own!)\n",
    "* To the same *kind* of data\n",
    "* To the same data sources\n",
    "* or to anything else!\n",
    "\n",
    "This assignment gives you the power to do what you like!"
   ]
  },
  {
   "cell_type": "code",
   "execution_count": 6,
   "metadata": {},
   "outputs": [],
   "source": [
    "from imdbpie import ImdbFacade\n",
    "from IPython.core.display import display, HTML\n",
    "from bs4 import BeautifulSoup\n",
    "import urllib.request\n",
    "import re"
   ]
  },
  {
   "cell_type": "markdown",
   "metadata": {},
   "source": [
    "#### Get data for Arnold Schwarzenegger"
   ]
  },
  {
   "cell_type": "code",
   "execution_count": 223,
   "metadata": {},
   "outputs": [
    {
     "name": "stdout",
     "output_type": "stream",
     "text": [
      "(NameSearchResult(imdb_id='nm0000138', name='Leonardo DiCaprio'),)\n"
     ]
    }
   ],
   "source": [
    "# Get an instance of IMDb class\n",
    "imdb = ImdbFacade()\n",
    "# Search for Arnold Schwarzenegger\n",
    "people = imdb.search_for_name('Leonardo DiCaprio')\n",
    "print(people)"
   ]
  },
  {
   "cell_type": "code",
   "execution_count": 225,
   "metadata": {},
   "outputs": [
    {
     "name": "stdout",
     "output_type": "stream",
     "text": [
      "bios\n",
      "birth_place\n",
      "date_of_birth\n",
      "filmography\n",
      "gender\n",
      "image\n",
      "imdb_id\n",
      "name\n"
     ]
    }
   ],
   "source": [
    "# Fetch information about him\n",
    "leonardo = imdb.get_name(people[0].imdb_id)\n",
    "# What information do I have about him?\n",
    "print('\\n'.join([x for x in dir(leonardo) if not x.startswith('__')]))"
   ]
  },
  {
   "cell_type": "code",
   "execution_count": 13,
   "metadata": {},
   "outputs": [
    {
     "name": "stdout",
     "output_type": "stream",
     "text": [
      "430\n"
     ]
    }
   ],
   "source": [
    "# How many movies does he have?\n",
    "print(len(leonardo.filmography))"
   ]
  },
  {
   "cell_type": "code",
   "execution_count": 14,
   "metadata": {},
   "outputs": [],
   "source": [
    "# Let's fetch some more information about a movie\n",
    "movie = imdb.get_title(leonardo.filmography[-1])"
   ]
  },
  {
   "cell_type": "code",
   "execution_count": 24,
   "metadata": {},
   "outputs": [
    {
     "name": "stdout",
     "output_type": "stream",
     "text": [
      "certification\n",
      "creators\n",
      "credits\n",
      "directors\n",
      "episode\n",
      "episodes\n",
      "genres\n",
      "image\n",
      "imdb_id\n",
      "plot_outline\n",
      "rating\n",
      "rating_count\n",
      "release_date\n",
      "releases\n",
      "runtime\n",
      "season\n",
      "stars\n",
      "title\n",
      "type\n",
      "writers\n",
      "year\n"
     ]
    }
   ],
   "source": [
    "# What information can I get about this movie?\n",
    "print('\\n'.join([x for x in dir(movie) if not x.startswith('__')]))"
   ]
  },
  {
   "cell_type": "code",
   "execution_count": 239,
   "metadata": {},
   "outputs": [
    {
     "data": {
      "text/plain": [
       "(TitleName(name='Leila Conners', category='director', imdb_id='nm2126446', job=None, characters=()),\n",
       " TitleName(name='Nadia Conners', category='director', imdb_id='nm2105775', job=None, characters=()))"
      ]
     },
     "execution_count": 239,
     "metadata": {},
     "output_type": "execute_result"
    }
   ],
   "source": [
    "movie.directors"
   ]
  },
  {
   "cell_type": "code",
   "execution_count": 16,
   "metadata": {},
   "outputs": [
    {
     "name": "stdout",
     "output_type": "stream",
     "text": [
      "tt0492931\n"
     ]
    }
   ],
   "source": [
    "print(movie.imdb_id)"
   ]
  },
  {
   "cell_type": "code",
   "execution_count": 18,
   "metadata": {},
   "outputs": [
    {
     "data": {
      "text/html": [
       "\n",
       "    <div style=\"background-color:#FFDDDD\">\n",
       "    <h2> Warning! </h2>\n",
       "    <p> This code below is meant to be an example of what you can do. <br>\n",
       "        It is not guaranteed to work always, and will need to be tweaked!\n",
       "    </p>\n",
       "    </div>\n"
      ],
      "text/plain": [
       "<IPython.core.display.HTML object>"
      ]
     },
     "metadata": {},
     "output_type": "display_data"
    }
   ],
   "source": [
    "html = \"\"\"\n",
    "    <div style=\"background-color:#FFDDDD\">\n",
    "    <h2> Warning! </h2>\n",
    "    <p> This code below is meant to be an example of what you can do. <br>\n",
    "        It is not guaranteed to work always, and will need to be tweaked!\n",
    "    </p>\n",
    "    </div>\n",
    "\"\"\"\n",
    "display(HTML(html))"
   ]
  },
  {
   "cell_type": "markdown",
   "metadata": {},
   "source": [
    "#### Box office numbers"
   ]
  },
  {
   "cell_type": "code",
   "execution_count": 34,
   "metadata": {},
   "outputs": [
    {
     "name": "stdout",
     "output_type": "stream",
     "text": [
      "Total Domestic Earnings: $707,343\n",
      "Total International Earnings: $277,864\n",
      "Weekly Domestic Earnings:\n",
      "\tAug 17-23 \t: $80,413\n",
      "\tAug 24-30 \t: $97,507\n",
      "\tAug 31-Sep 6 \t: $298,393\n",
      "\tSep 7-13 \t: $117,167\n",
      "\tSep 14-20 \t: $77,674\n",
      "\tSep 21-27 \t: $26,623\n",
      "\tSep 28-Oct 4 \t: $9,566\n"
     ]
    }
   ],
   "source": [
    "# Let's experiment with Terminator\n",
    "imdb_id = 'tt0492931'\n",
    "\n",
    "# Fetch the box office numbers\n",
    "base = 'https://www.boxofficemojo.com'\n",
    "url = base + '/title/' + imdb_id\n",
    "source = urllib.request.urlopen(url).read()\n",
    "soup = BeautifulSoup(source,'lxml')\n",
    "\n",
    "table = soup('th', text=re.compile(r'Release Group'))[0].parent.parent\n",
    "group = table.findAll('tr', recursive=False)[1].find('a').get('href')\n",
    "url = base + group\n",
    "\n",
    "# Get total earnings domestic and international\n",
    "source = urllib.request.urlopen(url).read()\n",
    "soup = BeautifulSoup(source,'lxml')\n",
    "earnings = soup('h2', text=re.compile(r'Rollout'))[0].parent.parent.findAll('div')\n",
    "domestic = earnings[1].find('span', {'class': 'money'}).get_text()\n",
    "domestic_url = earnings[1].find('a').get('href')\n",
    "international = earnings[2].find('span', {'class': 'money'}).get_text()\n",
    "\n",
    "# Get weekly domestic earnings\n",
    "url = base + domestic_url\n",
    "url = url[:url.rfind('/')] + '/weekly/'\n",
    "source = urllib.request.urlopen(url).read()\n",
    "soup = BeautifulSoup(source,'lxml')\n",
    "table = soup.find('div', {'class':'a-section imdb-scroll-table-inner'}).findAll('tr')\n",
    "weekly = []\n",
    "for tr in table[1:]:\n",
    "    date = tr.findAll('td')[0].get_text()\n",
    "    earning = tr.findAll('td')[2].get_text()\n",
    "    weekly.append((date, earning))\n",
    "\n",
    "# Print the values we've just got!\n",
    "print(\"Total Domestic Earnings: %s\" % domestic)\n",
    "print(\"Total International Earnings: %s\" % international)\n",
    "print(\"Weekly Domestic Earnings:\")\n",
    "for date, earning in weekly:\n",
    "    print(\"\\t%s \\t: %s\" % (date, earning))"
   ]
  },
  {
   "cell_type": "markdown",
   "metadata": {},
   "source": [
    "## Scrape Major movie starred by Leonardo ( Major movies are those having a budget)"
   ]
  },
  {
   "cell_type": "code",
   "execution_count": 275,
   "metadata": {},
   "outputs": [],
   "source": [
    "url = 'https://pro.imdb.com/name/nm0000138/filmography'\n",
    "source = urllib.request.urlopen(url).read()\n",
    "soup = BeautifulSoup(source,'lxml')\n",
    "table = soup.find(\"table\",{\"id\":\"past_film_filmography\"})"
   ]
  },
  {
   "cell_type": "code",
   "execution_count": 293,
   "metadata": {},
   "outputs": [],
   "source": [
    "rows = table.findAll(\"tr\")\n",
    "films_info = []\n",
    "for i in range(1,len(rows)):\n",
    "    row = rows[i]\n",
    "    imdb_id = row['data-filter-item-id']\n",
    "    \n",
    "    cols = row.findAll('td')\n",
    "    try:\n",
    "        budget = cols[1]['data-sort-value']\n",
    "        opening_weekend = cols[2]['data-sort-value']\n",
    "        gross_US_Canada = cols[3]['data-sort-value']\n",
    "        gross_world = cols[4]['data-sort-value']\n",
    "        films_info.append([imdb_id, budget, opening_weekend, gross_US_Canada, gross_world])\n",
    "    except KeyError:\n",
    "        continue"
   ]
  },
  {
   "cell_type": "code",
   "execution_count": 295,
   "metadata": {},
   "outputs": [],
   "source": [
    "films_info_df = pd.DataFrame(columns=['IMDB_id', 'budget', 'opening_weekend', 'gross_US_Canada', 'gross_world'], \n",
    "                             data = films_info)"
   ]
  },
  {
   "cell_type": "code",
   "execution_count": 300,
   "metadata": {},
   "outputs": [],
   "source": [
    "movie_names = films_info_df.apply(lambda x: imdb.get_title(x['IMDB_id']).title, axis = 1)"
   ]
  },
  {
   "cell_type": "code",
   "execution_count": 301,
   "metadata": {},
   "outputs": [],
   "source": [
    "films_info_df['movie_name'] = movie_names"
   ]
  },
  {
   "cell_type": "code",
   "execution_count": 303,
   "metadata": {
    "scrolled": true
   },
   "outputs": [],
   "source": [
    "films_info_df['year'] = films_info_df.apply(lambda x: imdb.get_title(x['IMDB_id']).year, axis = 1)"
   ]
  },
  {
   "cell_type": "code",
   "execution_count": 432,
   "metadata": {},
   "outputs": [],
   "source": [
    "selected = films_info_df[['year', 'gross_world', 'movie_name']]"
   ]
  },
  {
   "cell_type": "code",
   "execution_count": 436,
   "metadata": {},
   "outputs": [],
   "source": [
    "selected = selected.rename({'gross_world':'size', 'movie_name':'text'}, axis = 1)"
   ]
  },
  {
   "cell_type": "code",
   "execution_count": 439,
   "metadata": {},
   "outputs": [],
   "source": [
    "selected.size = selected['size'].apply(lambda x: int(x))"
   ]
  },
  {
   "cell_type": "code",
   "execution_count": 441,
   "metadata": {},
   "outputs": [
    {
     "data": {
      "text/plain": [
       "371544347"
      ]
     },
     "execution_count": 441,
     "metadata": {},
     "output_type": "execute_result"
    }
   ],
   "source": [
    "selected['size'][0]"
   ]
  },
  {
   "cell_type": "code",
   "execution_count": 443,
   "metadata": {},
   "outputs": [],
   "source": [
    "selected['category'] = ''"
   ]
  },
  {
   "cell_type": "code",
   "execution_count": 449,
   "metadata": {},
   "outputs": [
    {
     "data": {
      "text/html": [
       "<div>\n",
       "<style scoped>\n",
       "    .dataframe tbody tr th:only-of-type {\n",
       "        vertical-align: middle;\n",
       "    }\n",
       "\n",
       "    .dataframe tbody tr th {\n",
       "        vertical-align: top;\n",
       "    }\n",
       "\n",
       "    .dataframe thead th {\n",
       "        text-align: right;\n",
       "    }\n",
       "</style>\n",
       "<table border=\"1\" class=\"dataframe\">\n",
       "  <thead>\n",
       "    <tr style=\"text-align: right;\">\n",
       "      <th></th>\n",
       "      <th>year</th>\n",
       "      <th>size</th>\n",
       "      <th>text</th>\n",
       "      <th>category</th>\n",
       "    </tr>\n",
       "  </thead>\n",
       "  <tbody>\n",
       "    <tr>\n",
       "      <th>0</th>\n",
       "      <td>2019</td>\n",
       "      <td>371544347</td>\n",
       "      <td>Once Upon a Time... in Hollywood</td>\n",
       "      <td></td>\n",
       "    </tr>\n",
       "    <tr>\n",
       "      <th>1</th>\n",
       "      <td>2018</td>\n",
       "      <td>85878203</td>\n",
       "      <td>Robin Hood</td>\n",
       "      <td></td>\n",
       "    </tr>\n",
       "    <tr>\n",
       "      <th>2</th>\n",
       "      <td>2016</td>\n",
       "      <td>22678555</td>\n",
       "      <td>Live by Night</td>\n",
       "      <td></td>\n",
       "    </tr>\n",
       "    <tr>\n",
       "      <th>3</th>\n",
       "      <td>2015</td>\n",
       "      <td>532950503</td>\n",
       "      <td>The Revenant</td>\n",
       "      <td></td>\n",
       "    </tr>\n",
       "    <tr>\n",
       "      <th>4</th>\n",
       "      <td>2013</td>\n",
       "      <td>392000694</td>\n",
       "      <td>The Wolf of Wall Street</td>\n",
       "      <td></td>\n",
       "    </tr>\n",
       "    <tr>\n",
       "      <th>5</th>\n",
       "      <td>2013</td>\n",
       "      <td>15435261</td>\n",
       "      <td>Out of the Furnace</td>\n",
       "      <td></td>\n",
       "    </tr>\n",
       "    <tr>\n",
       "      <th>6</th>\n",
       "      <td>2013</td>\n",
       "      <td>62675095</td>\n",
       "      <td>Runner Runner</td>\n",
       "      <td></td>\n",
       "    </tr>\n",
       "    <tr>\n",
       "      <th>7</th>\n",
       "      <td>2013</td>\n",
       "      <td>28277704</td>\n",
       "      <td>Don Jon</td>\n",
       "      <td></td>\n",
       "    </tr>\n",
       "    <tr>\n",
       "      <th>8</th>\n",
       "      <td>2013</td>\n",
       "      <td>353641895</td>\n",
       "      <td>The Great Gatsby</td>\n",
       "      <td></td>\n",
       "    </tr>\n",
       "    <tr>\n",
       "      <th>9</th>\n",
       "      <td>2012</td>\n",
       "      <td>425368238</td>\n",
       "      <td>Django Unchained</td>\n",
       "      <td></td>\n",
       "    </tr>\n",
       "    <tr>\n",
       "      <th>10</th>\n",
       "      <td>2011</td>\n",
       "      <td>84920539</td>\n",
       "      <td>J. Edgar</td>\n",
       "      <td></td>\n",
       "    </tr>\n",
       "    <tr>\n",
       "      <th>11</th>\n",
       "      <td>2011</td>\n",
       "      <td>75993061</td>\n",
       "      <td>The Ides of March</td>\n",
       "      <td></td>\n",
       "    </tr>\n",
       "    <tr>\n",
       "      <th>12</th>\n",
       "      <td>2011</td>\n",
       "      <td>89162162</td>\n",
       "      <td>Red Riding Hood</td>\n",
       "      <td></td>\n",
       "    </tr>\n",
       "    <tr>\n",
       "      <th>13</th>\n",
       "      <td>2010</td>\n",
       "      <td>829895144</td>\n",
       "      <td>Inception</td>\n",
       "      <td></td>\n",
       "    </tr>\n",
       "    <tr>\n",
       "      <th>14</th>\n",
       "      <td>2010</td>\n",
       "      <td>294804195</td>\n",
       "      <td>Shutter Island</td>\n",
       "      <td></td>\n",
       "    </tr>\n",
       "    <tr>\n",
       "      <th>15</th>\n",
       "      <td>2008</td>\n",
       "      <td>75226021</td>\n",
       "      <td>Revolutionary Road</td>\n",
       "      <td></td>\n",
       "    </tr>\n",
       "    <tr>\n",
       "      <th>16</th>\n",
       "      <td>2008</td>\n",
       "      <td>115900897</td>\n",
       "      <td>Body of Lies</td>\n",
       "      <td></td>\n",
       "    </tr>\n",
       "    <tr>\n",
       "      <th>17</th>\n",
       "      <td>2006</td>\n",
       "      <td>171720398</td>\n",
       "      <td>Blood Diamond</td>\n",
       "      <td></td>\n",
       "    </tr>\n",
       "    <tr>\n",
       "      <th>18</th>\n",
       "      <td>2006</td>\n",
       "      <td>291465034</td>\n",
       "      <td>The Departed</td>\n",
       "      <td></td>\n",
       "    </tr>\n",
       "    <tr>\n",
       "      <th>19</th>\n",
       "      <td>2004</td>\n",
       "      <td>213719942</td>\n",
       "      <td>The Aviator</td>\n",
       "      <td></td>\n",
       "    </tr>\n",
       "    <tr>\n",
       "      <th>20</th>\n",
       "      <td>2003</td>\n",
       "      <td>76488889</td>\n",
       "      <td>Bad Santa</td>\n",
       "      <td></td>\n",
       "    </tr>\n",
       "    <tr>\n",
       "      <th>21</th>\n",
       "      <td>2002</td>\n",
       "      <td>352114312</td>\n",
       "      <td>Catch Me If You Can</td>\n",
       "      <td></td>\n",
       "    </tr>\n",
       "    <tr>\n",
       "      <th>22</th>\n",
       "      <td>2002</td>\n",
       "      <td>193772504</td>\n",
       "      <td>Gangs of New York</td>\n",
       "      <td></td>\n",
       "    </tr>\n",
       "    <tr>\n",
       "      <th>23</th>\n",
       "      <td>2000</td>\n",
       "      <td>144056873</td>\n",
       "      <td>The Beach</td>\n",
       "      <td></td>\n",
       "    </tr>\n",
       "    <tr>\n",
       "      <th>24</th>\n",
       "      <td>1998</td>\n",
       "      <td>5078660</td>\n",
       "      <td>Celebrity</td>\n",
       "      <td></td>\n",
       "    </tr>\n",
       "    <tr>\n",
       "      <th>25</th>\n",
       "      <td>1998</td>\n",
       "      <td>182968902</td>\n",
       "      <td>The Man in the Iron Mask</td>\n",
       "      <td></td>\n",
       "    </tr>\n",
       "    <tr>\n",
       "      <th>26</th>\n",
       "      <td>1997</td>\n",
       "      <td>2187463944</td>\n",
       "      <td>Titanic</td>\n",
       "      <td></td>\n",
       "    </tr>\n",
       "    <tr>\n",
       "      <th>27</th>\n",
       "      <td>1996</td>\n",
       "      <td>12803305</td>\n",
       "      <td>Marvin's Room</td>\n",
       "      <td></td>\n",
       "    </tr>\n",
       "    <tr>\n",
       "      <th>28</th>\n",
       "      <td>1996</td>\n",
       "      <td>151841661</td>\n",
       "      <td>Romeo + Juliet</td>\n",
       "      <td></td>\n",
       "    </tr>\n",
       "    <tr>\n",
       "      <th>29</th>\n",
       "      <td>1995</td>\n",
       "      <td>340139</td>\n",
       "      <td>Total Eclipse</td>\n",
       "      <td></td>\n",
       "    </tr>\n",
       "    <tr>\n",
       "      <th>30</th>\n",
       "      <td>1995</td>\n",
       "      <td>18636537</td>\n",
       "      <td>The Quick and the Dead</td>\n",
       "      <td></td>\n",
       "    </tr>\n",
       "    <tr>\n",
       "      <th>31</th>\n",
       "      <td>1993</td>\n",
       "      <td>10032765</td>\n",
       "      <td>What's Eating Gilbert Grape</td>\n",
       "      <td></td>\n",
       "    </tr>\n",
       "    <tr>\n",
       "      <th>32</th>\n",
       "      <td>1992</td>\n",
       "      <td>1829804</td>\n",
       "      <td>Poison Ivy</td>\n",
       "      <td></td>\n",
       "    </tr>\n",
       "  </tbody>\n",
       "</table>\n",
       "</div>"
      ],
      "text/plain": [
       "    year        size                              text category\n",
       "0   2019   371544347  Once Upon a Time... in Hollywood         \n",
       "1   2018    85878203                        Robin Hood         \n",
       "2   2016    22678555                     Live by Night         \n",
       "3   2015   532950503                      The Revenant         \n",
       "4   2013   392000694           The Wolf of Wall Street         \n",
       "5   2013    15435261                Out of the Furnace         \n",
       "6   2013    62675095                     Runner Runner         \n",
       "7   2013    28277704                           Don Jon         \n",
       "8   2013   353641895                  The Great Gatsby         \n",
       "9   2012   425368238                  Django Unchained         \n",
       "10  2011    84920539                          J. Edgar         \n",
       "11  2011    75993061                 The Ides of March         \n",
       "12  2011    89162162                   Red Riding Hood         \n",
       "13  2010   829895144                         Inception         \n",
       "14  2010   294804195                    Shutter Island         \n",
       "15  2008    75226021                Revolutionary Road         \n",
       "16  2008   115900897                      Body of Lies         \n",
       "17  2006   171720398                     Blood Diamond         \n",
       "18  2006   291465034                      The Departed         \n",
       "19  2004   213719942                       The Aviator         \n",
       "20  2003    76488889                         Bad Santa         \n",
       "21  2002   352114312               Catch Me If You Can         \n",
       "22  2002   193772504                 Gangs of New York         \n",
       "23  2000   144056873                         The Beach         \n",
       "24  1998     5078660                         Celebrity         \n",
       "25  1998   182968902          The Man in the Iron Mask         \n",
       "26  1997  2187463944                           Titanic         \n",
       "27  1996    12803305                     Marvin's Room         \n",
       "28  1996   151841661                    Romeo + Juliet         \n",
       "29  1995      340139                     Total Eclipse         \n",
       "30  1995    18636537            The Quick and the Dead         \n",
       "31  1993    10032765       What's Eating Gilbert Grape         \n",
       "32  1992     1829804                        Poison Ivy         "
      ]
     },
     "execution_count": 449,
     "metadata": {},
     "output_type": "execute_result"
    }
   ],
   "source": [
    "selected"
   ]
  },
  {
   "cell_type": "code",
   "execution_count": 446,
   "metadata": {},
   "outputs": [
    {
     "data": {
      "text/plain": [
       "'[{\"year\":2019,\"size\":371544347,\"text\":\"Once Upon a Time... in Hollywood\",\"category\":\"\"},{\"year\":2018,\"size\":85878203,\"text\":\"Robin Hood\",\"category\":\"\"},{\"year\":2016,\"size\":22678555,\"text\":\"Live by Night\",\"category\":\"\"},{\"year\":2015,\"size\":532950503,\"text\":\"The Revenant\",\"category\":\"\"},{\"year\":2013,\"size\":392000694,\"text\":\"The Wolf of Wall Street\",\"category\":\"\"},{\"year\":2013,\"size\":15435261,\"text\":\"Out of the Furnace\",\"category\":\"\"},{\"year\":2013,\"size\":62675095,\"text\":\"Runner Runner\",\"category\":\"\"},{\"year\":2013,\"size\":28277704,\"text\":\"Don Jon\",\"category\":\"\"},{\"year\":2013,\"size\":353641895,\"text\":\"The Great Gatsby\",\"category\":\"\"},{\"year\":2012,\"size\":425368238,\"text\":\"Django Unchained\",\"category\":\"\"},{\"year\":2011,\"size\":84920539,\"text\":\"J. Edgar\",\"category\":\"\"},{\"year\":2011,\"size\":75993061,\"text\":\"The Ides of March\",\"category\":\"\"},{\"year\":2011,\"size\":89162162,\"text\":\"Red Riding Hood\",\"category\":\"\"},{\"year\":2010,\"size\":829895144,\"text\":\"Inception\",\"category\":\"\"},{\"year\":2010,\"size\":294804195,\"text\":\"Shutter Island\",\"category\":\"\"},{\"year\":2008,\"size\":75226021,\"text\":\"Revolutionary Road\",\"category\":\"\"},{\"year\":2008,\"size\":115900897,\"text\":\"Body of Lies\",\"category\":\"\"},{\"year\":2006,\"size\":171720398,\"text\":\"Blood Diamond\",\"category\":\"\"},{\"year\":2006,\"size\":291465034,\"text\":\"The Departed\",\"category\":\"\"},{\"year\":2004,\"size\":213719942,\"text\":\"The Aviator\",\"category\":\"\"},{\"year\":2003,\"size\":76488889,\"text\":\"Bad Santa\",\"category\":\"\"},{\"year\":2002,\"size\":352114312,\"text\":\"Catch Me If You Can\",\"category\":\"\"},{\"year\":2002,\"size\":193772504,\"text\":\"Gangs of New York\",\"category\":\"\"},{\"year\":2000,\"size\":144056873,\"text\":\"The Beach\",\"category\":\"\"},{\"year\":1998,\"size\":5078660,\"text\":\"Celebrity\",\"category\":\"\"},{\"year\":1998,\"size\":182968902,\"text\":\"The Man in the Iron Mask\",\"category\":\"\"},{\"year\":1997,\"size\":2187463944,\"text\":\"Titanic\",\"category\":\"\"},{\"year\":1996,\"size\":12803305,\"text\":\"Marvin\\'s Room\",\"category\":\"\"},{\"year\":1996,\"size\":151841661,\"text\":\"Romeo + Juliet\",\"category\":\"\"},{\"year\":1995,\"size\":340139,\"text\":\"Total Eclipse\",\"category\":\"\"},{\"year\":1995,\"size\":18636537,\"text\":\"The Quick and the Dead\",\"category\":\"\"},{\"year\":1993,\"size\":10032765,\"text\":\"What\\'s Eating Gilbert Grape\",\"category\":\"\"},{\"year\":1992,\"size\":1829804,\"text\":\"Poison Ivy\",\"category\":\"\"}]'"
      ]
     },
     "execution_count": 446,
     "metadata": {},
     "output_type": "execute_result"
    }
   ],
   "source": [
    "selected.to_json(orient='records')"
   ]
  },
  {
   "cell_type": "code",
   "execution_count": null,
   "metadata": {},
   "outputs": [],
   "source": []
  },
  {
   "cell_type": "markdown",
   "metadata": {},
   "source": [
    "## Scrape Global Sales of 2012 Release of Titanic"
   ]
  },
  {
   "cell_type": "code",
   "execution_count": 410,
   "metadata": {},
   "outputs": [],
   "source": [
    "## Scrape Global Sales of 2012 Release of Titanic\n",
    "url = 'https://www.boxofficemojo.com/releasegroup/gr4211823109/'\n",
    "source = urllib.request.urlopen(url).read()\n",
    "soup = BeautifulSoup(source,'lxml')\n",
    "tables = soup.findAll(\"table\",{\"class\":\"a-bordered a-horizontal-stripes mojo-table releases-by-region\"})\n",
    "box_info_2012 = []\n",
    "for table in tables:\n",
    "    rows = table.findAll('tr')\n",
    "    for i in range(2,len(rows)):\n",
    "        row = rows[i]\n",
    "        market = row.find(\"a\").getText()\n",
    "        release_date = row.findAll('td')[1].getText()\n",
    "        gross = row.findAll('td')[-1].getText()\n",
    "        box_info_2012.append([market, release_date, gross])"
   ]
  },
  {
   "cell_type": "code",
   "execution_count": 416,
   "metadata": {},
   "outputs": [],
   "source": [
    "box_info_2012_df = pd.DataFrame(box_info_2012, columns=['Market', 'Release', 'box_office'])\n",
    "box_info_2012_df['box_office'] = box_info_2012_df['box_office'].apply(lambda x: \"\".join([c for c in x if c.isnumeric()]))\n",
    "box_info_2012_df.iloc[0,0] = 'United States'\n",
    "import pycountry\n",
    "country_codes = []\n",
    "for i in box_info_2012_df['Market'].to_list():\n",
    "    if '/' in i:\n",
    "        i = i[i.find('/')+1:]\n",
    "    try:\n",
    "        country_codes.append(pycountry.countries.get(name = i).alpha_2)\n",
    "    except:\n",
    "        country_codes.append('')"
   ]
  },
  {
   "cell_type": "code",
   "execution_count": 420,
   "metadata": {},
   "outputs": [],
   "source": [
    "country_codes[6] = 'CZ'\n",
    "country_codes[23] = 'CS'\n",
    "country_codes[34] = 'BO'\n",
    "country_codes[42] = 'VE'\n",
    "country_codes[51] = 'RU'\n",
    "country_codes[53] = 'KR'"
   ]
  },
  {
   "cell_type": "code",
   "execution_count": 422,
   "metadata": {},
   "outputs": [],
   "source": [
    "box_info_2012_df['market_code'] = country_codes\n",
    "market_dict = box_info_2012_df[['market_code', 'box_office']].set_index('market_code').iloc[:,0].to_dict()\n",
    "market_dict = pd.Series(market_dict).apply(lambda x: int(x)).to_dict()\n"
   ]
  },
  {
   "cell_type": "code",
   "execution_count": 430,
   "metadata": {
    "scrolled": true
   },
   "outputs": [
    {
     "data": {
      "text/plain": [
       "335148116"
      ]
     },
     "execution_count": 430,
     "metadata": {},
     "output_type": "execute_result"
    }
   ],
   "source": [
    "sum(market_dict.values())"
   ]
  },
  {
   "cell_type": "code",
   "execution_count": 424,
   "metadata": {},
   "outputs": [],
   "source": [
    "import json\n",
    "with open('market_box_info_2012.json', 'w') as fp:\n",
    "    json.dump(market_dict, fp)"
   ]
  },
  {
   "cell_type": "markdown",
   "metadata": {},
   "source": [
    "## Scrape Global Sales of Original Release of Titanic"
   ]
  },
  {
   "cell_type": "code",
   "execution_count": 242,
   "metadata": {},
   "outputs": [],
   "source": [
    "url = 'https://www.boxofficemojo.com/releasegroup/gr4195045893/'\n",
    "source = urllib.request.urlopen(url).read()\n",
    "soup = BeautifulSoup(source,'lxml')"
   ]
  },
  {
   "cell_type": "code",
   "execution_count": 245,
   "metadata": {},
   "outputs": [],
   "source": [
    "tables = soup.findAll(\"table\",{\"class\":\"a-bordered a-horizontal-stripes mojo-table releases-by-region\"})"
   ]
  },
  {
   "cell_type": "code",
   "execution_count": 266,
   "metadata": {},
   "outputs": [],
   "source": [
    "box_info_1998 = []\n",
    "for table in tables:\n",
    "    rows = table.findAll('tr')\n",
    "    for i in range(2,len(rows)):\n",
    "        row = rows[i]\n",
    "        market = row.find(\"a\").getText()\n",
    "        release_date = row.findAll('td')[1].getText()\n",
    "        gross = row.findAll('td')[-1].getText()\n",
    "        box_info_1998.append([market, release_date, gross])"
   ]
  },
  {
   "cell_type": "code",
   "execution_count": 268,
   "metadata": {},
   "outputs": [
    {
     "data": {
      "text/plain": [
       "['Domestic', 'Dec 19, 1997', '$600,788,188']"
      ]
     },
     "execution_count": 268,
     "metadata": {},
     "output_type": "execute_result"
    }
   ],
   "source": [
    "box_info_1998[0]"
   ]
  },
  {
   "cell_type": "code",
   "execution_count": 308,
   "metadata": {},
   "outputs": [],
   "source": [
    "box_info_1998_df = pd.DataFrame(box_info_1998, columns=['Market', 'Release', 'box_office'])"
   ]
  },
  {
   "cell_type": "code",
   "execution_count": 312,
   "metadata": {
    "scrolled": true
   },
   "outputs": [],
   "source": [
    "box_info_1998_df['box_office'] = box_info_1998_df['box_office'].apply(lambda x: \"\".join([c for c in x if c.isnumeric()]))"
   ]
  },
  {
   "cell_type": "code",
   "execution_count": 333,
   "metadata": {},
   "outputs": [],
   "source": [
    "box_info_1998_df.iloc[0,0] = 'United States'"
   ]
  },
  {
   "cell_type": "code",
   "execution_count": 386,
   "metadata": {},
   "outputs": [],
   "source": [
    "import pycountry"
   ]
  },
  {
   "cell_type": "code",
   "execution_count": 360,
   "metadata": {},
   "outputs": [],
   "source": [
    "country_codes = []\n",
    "for i in box_info_1998_df['Market'].to_list():\n",
    "    if '/' in i:\n",
    "        i = i[i.find('/')+1:]\n",
    "    try:\n",
    "        country_codes.append(pycountry.countries.get(name = i).alpha_2)\n",
    "    except:\n",
    "        country_codes.append('')"
   ]
  },
  {
   "cell_type": "code",
   "execution_count": 380,
   "metadata": {},
   "outputs": [],
   "source": [
    "country_codes[13] = 'GR'\n",
    "country_codes[36] = 'YU'\n",
    "country_codes[38] = 'BO'\n",
    "country_codes[52] = 'VE'\n",
    "country_codes[61] = 'RU'\n",
    "country_codes[63] = 'KR'\n",
    "country_codes[64] = 'TW'"
   ]
  },
  {
   "cell_type": "code",
   "execution_count": 382,
   "metadata": {
    "scrolled": true
   },
   "outputs": [],
   "source": [
    "box_info_1998_df['market_code'] = country_codes"
   ]
  },
  {
   "cell_type": "code",
   "execution_count": 383,
   "metadata": {},
   "outputs": [],
   "source": [
    "market_dict = box_info_1998_df[['market_code', 'box_office']].set_index('market_code').iloc[:,0].to_dict()"
   ]
  },
  {
   "cell_type": "code",
   "execution_count": 402,
   "metadata": {
    "scrolled": true
   },
   "outputs": [],
   "source": [
    "market_dict = pd.Series(market_dict).apply(lambda x: int(x)).to_dict()"
   ]
  },
  {
   "cell_type": "code",
   "execution_count": 403,
   "metadata": {},
   "outputs": [],
   "source": [
    "import json\n",
    "with open('market_box_info.json', 'w') as fp:\n",
    "    json.dump(market_dict, fp)"
   ]
  },
  {
   "cell_type": "code",
   "execution_count": 404,
   "metadata": {},
   "outputs": [
    {
     "data": {
      "text/plain": [
       "1845646818"
      ]
     },
     "execution_count": 404,
     "metadata": {},
     "output_type": "execute_result"
    }
   ],
   "source": [
    "pd.Series(market_dict).sum()"
   ]
  },
  {
   "cell_type": "markdown",
   "metadata": {},
   "source": [
    "## Scrape Global Sales of 2012 3D Release of Titanic"
   ]
  },
  {
   "cell_type": "code",
   "execution_count": 269,
   "metadata": {},
   "outputs": [],
   "source": [
    "url = 'https://www.boxofficemojo.com/releasegroup/gr4211823109/'\n",
    "source = urllib.request.urlopen(url).read()\n",
    "soup = BeautifulSoup(source,'lxml')\n",
    "tables = soup.findAll(\"table\",{\"class\":\"a-bordered a-horizontal-stripes mojo-table releases-by-region\"})\n",
    "box_info_2012 = []\n",
    "for table in tables:\n",
    "    rows = table.findAll('tr')\n",
    "    for i in range(2,len(rows)):\n",
    "        row = rows[i]\n",
    "        market = row.find(\"a\").getText()\n",
    "        release_date = row.findAll('td')[1].getText()\n",
    "        gross = row.findAll('td')[-1].getText()\n",
    "        box_info_2012.append([market, release_date, gross])"
   ]
  },
  {
   "cell_type": "code",
   "execution_count": 271,
   "metadata": {},
   "outputs": [
    {
     "data": {
      "text/plain": [
       "['Domestic', 'Apr 4, 2012', '$57,884,114']"
      ]
     },
     "execution_count": 271,
     "metadata": {},
     "output_type": "execute_result"
    }
   ],
   "source": [
    "box_info_2012[0]"
   ]
  },
  {
   "cell_type": "markdown",
   "metadata": {},
   "source": [
    "## Scrape Scrips of Titanic"
   ]
  },
  {
   "cell_type": "code",
   "execution_count": 44,
   "metadata": {},
   "outputs": [],
   "source": [
    "url = \"https://www.imsdb.com/scripts/Titanic.html\"\n",
    "source = urllib.request.urlopen(url).read()\n",
    "soup = BeautifulSoup(source,'lxml')"
   ]
  },
  {
   "cell_type": "code",
   "execution_count": 49,
   "metadata": {},
   "outputs": [],
   "source": [
    "test = soup.findAll(\"pre\")[0]"
   ]
  },
  {
   "cell_type": "code",
   "execution_count": 53,
   "metadata": {},
   "outputs": [],
   "source": [
    "## Here is text of all lines in one string\n",
    "all_text = text.get_text()"
   ]
  },
  {
   "cell_type": "code",
   "execution_count": 60,
   "metadata": {},
   "outputs": [],
   "source": [
    "import pandas as pd"
   ]
  },
  {
   "cell_type": "code",
   "execution_count": 65,
   "metadata": {},
   "outputs": [],
   "source": [
    "text_list = pd.Series(all_text.split(\"\\n\\n\")).apply(lambda x: x.strip()).to_list()"
   ]
  },
  {
   "cell_type": "code",
   "execution_count": null,
   "metadata": {},
   "outputs": [],
   "source": [
    "import string\n",
    "punctuation = set(string.punctuation)"
   ]
  },
  {
   "cell_type": "code",
   "execution_count": 75,
   "metadata": {},
   "outputs": [],
   "source": [
    "## check if the string is all capitalized after removing non-letter char: checking if it is a character\n",
    "def all_Capitalized(string):\n",
    "    return (''.join(x for x in string if x.isalpha())).isupper()"
   ]
  },
  {
   "cell_type": "code",
   "execution_count": 183,
   "metadata": {},
   "outputs": [],
   "source": [
    "character_lines = dict()\n",
    "character = ''\n",
    "## only the first line is the actor's words \n",
    "## if starts with (, the next line is still actor's words\n",
    "is_Word = True\n",
    "for line in text_list:\n",
    "    if line == '':\n",
    "        continue\n",
    "        \n",
    "    if all_Capitalized(line):\n",
    "        character = line\n",
    "        is_Word = True\n",
    "        if character not in character_lines.keys():\n",
    "            character_lines[character] = []\n",
    "    else:\n",
    "        if line[0] == '(':\n",
    "            is_Word = True\n",
    "            continue\n",
    "        if is_Word:\n",
    "            character_lines[character].append(line)\n",
    "            is_Word = False"
   ]
  },
  {
   "cell_type": "code",
   "execution_count": 184,
   "metadata": {},
   "outputs": [],
   "source": [
    "character_freq = {}\n",
    "for char in character_lines:\n",
    "    character_freq[char] = len(character_lines[char])"
   ]
  },
  {
   "cell_type": "code",
   "execution_count": 185,
   "metadata": {},
   "outputs": [],
   "source": [
    "character_freq_series = pd.Series(character_freq).sort_values(ascending = False)"
   ]
  },
  {
   "cell_type": "code",
   "execution_count": 186,
   "metadata": {},
   "outputs": [
    {
     "data": {
      "text/plain": [
       "ROSE       228\n",
       "JACK       195\n",
       "CAL        103\n",
       "LOVETT      58\n",
       "MOLLY       31\n",
       "BODINE      31\n",
       "RUTH        30\n",
       "SMITH       27\n",
       "ANDREWS     27\n",
       "LOVEJOY     22\n",
       "dtype: int64"
      ]
     },
     "execution_count": 186,
     "metadata": {},
     "output_type": "execute_result"
    }
   ],
   "source": [
    "## ten most frequent character\n",
    "character_freq_series.head(10)"
   ]
  },
  {
   "cell_type": "code",
   "execution_count": 187,
   "metadata": {},
   "outputs": [],
   "source": [
    "from nltk.corpus import stopwords\n",
    "import string\n",
    "punctuation = set(string.punctuation)\n",
    "stopWordSet = set(stopwords.words(\"english\"))\n",
    "## clean the line by removing punctuation and stop words (i.e. noise words)\n",
    "def clean_text(line):\n",
    "    r = ''.join([c for c in line if not (c in punctuation)])\n",
    "    r = ' '.join([word for word in r.split() if not (word.lower() in stopWordSet)])\n",
    "    return r"
   ]
  },
  {
   "cell_type": "code",
   "execution_count": 188,
   "metadata": {},
   "outputs": [],
   "source": [
    "cleaned_text = clean_text(all_text)"
   ]
  },
  {
   "cell_type": "code",
   "execution_count": 189,
   "metadata": {},
   "outputs": [],
   "source": [
    "jack_text_series = pd.Series(character_lines['JACK']).apply(lambda line: clean_text(line))"
   ]
  },
  {
   "cell_type": "code",
   "execution_count": 190,
   "metadata": {},
   "outputs": [],
   "source": [
    "jack_text = ' '.join(jack_text_series.to_list())"
   ]
  },
  {
   "cell_type": "code",
   "execution_count": 209,
   "metadata": {},
   "outputs": [],
   "source": [
    "rose_text_series = pd.Series(character_lines['ROSE']).apply(lambda line: clean_text(line))\n",
    "rose_text = ' '.join(rose_text_series.to_list())"
   ]
  },
  {
   "cell_type": "code",
   "execution_count": 200,
   "metadata": {},
   "outputs": [],
   "source": [
    "cal_text_series = pd.Series(character_lines['CAL']).apply(lambda line: clean_text(line))\n",
    "cal_text = ' '.join(cal_text_series.to_list())"
   ]
  },
  {
   "cell_type": "code",
   "execution_count": 220,
   "metadata": {},
   "outputs": [
    {
     "data": {
      "text/plain": [
       "158464"
      ]
     },
     "execution_count": 220,
     "metadata": {},
     "output_type": "execute_result"
    }
   ],
   "source": [
    "open(\"cleaned_text.txt\",'w').write(cleaned_text)"
   ]
  },
  {
   "cell_type": "code",
   "execution_count": 221,
   "metadata": {},
   "outputs": [
    {
     "data": {
      "text/plain": [
       "6792"
      ]
     },
     "execution_count": 221,
     "metadata": {},
     "output_type": "execute_result"
    }
   ],
   "source": [
    "open(\"rose_text.txt\",'w').write(rose_text)"
   ]
  },
  {
   "cell_type": "code",
   "execution_count": 222,
   "metadata": {},
   "outputs": [
    {
     "data": {
      "text/plain": [
       "6158"
      ]
     },
     "execution_count": 222,
     "metadata": {},
     "output_type": "execute_result"
    }
   ],
   "source": [
    "open(\"jack_text.txt\",'w').write(jack_text)"
   ]
  },
  {
   "cell_type": "code",
   "execution_count": null,
   "metadata": {},
   "outputs": [],
   "source": []
  },
  {
   "cell_type": "code",
   "execution_count": null,
   "metadata": {},
   "outputs": [],
   "source": []
  },
  {
   "cell_type": "code",
   "execution_count": null,
   "metadata": {},
   "outputs": [],
   "source": []
  },
  {
   "cell_type": "code",
   "execution_count": null,
   "metadata": {},
   "outputs": [],
   "source": []
  },
  {
   "cell_type": "code",
   "execution_count": null,
   "metadata": {},
   "outputs": [],
   "source": []
  },
  {
   "cell_type": "code",
   "execution_count": null,
   "metadata": {},
   "outputs": [],
   "source": []
  },
  {
   "cell_type": "markdown",
   "metadata": {},
   "source": [
    "## Other resources!"
   ]
  },
  {
   "cell_type": "markdown",
   "metadata": {},
   "source": [
    "This assignment doesn't have a restriction on where you can look for data.\n",
    "Further, we don't mind how you collect the data, or what data you collect.\n",
    "\n",
    "Here are some additional resources for this example, and you can customize it for your own!\n",
    "* Arnold Schwarzenegger Kill Count: https://www.youtube.com/watch?v=OE6jpTaOYMU\n",
    "* Arnold Schwarzenegger Top Quotes: https://www.youtube.com/watch?v=pDxn0Xfqkgw\n",
    "\n",
    "You could think about the IMDB network as a graph, with different actors connected through movies.\n",
    "\n",
    "Some other useful libraries/ databases:\n",
    "* IMDBPy\n",
    "* http://www.omdbapi.com/"
   ]
  },
  {
   "cell_type": "code",
   "execution_count": null,
   "metadata": {},
   "outputs": [],
   "source": []
  }
 ],
 "metadata": {
  "kernelspec": {
   "display_name": "Python 3",
   "language": "python",
   "name": "python3"
  },
  "language_info": {
   "codemirror_mode": {
    "name": "ipython",
    "version": 3
   },
   "file_extension": ".py",
   "mimetype": "text/x-python",
   "name": "python",
   "nbconvert_exporter": "python",
   "pygments_lexer": "ipython3",
   "version": "3.7.3"
  }
 },
 "nbformat": 4,
 "nbformat_minor": 2
}
