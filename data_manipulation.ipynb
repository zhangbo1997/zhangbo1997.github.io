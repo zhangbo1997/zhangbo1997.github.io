{
 "cells": [
  {
   "cell_type": "code",
   "execution_count": 46,
   "metadata": {},
   "outputs": [],
   "source": [
    "import pandas as pd\n",
    "import numpy as np\n",
    "import matplotlib.pyplot as plt"
   ]
  },
  {
   "cell_type": "code",
   "execution_count": 171,
   "metadata": {},
   "outputs": [],
   "source": [
    "daily_sales = pd.read_csv('daily_sales.csv')\n",
    "monthly_sales = pd.read_csv(\"monthly_sales.csv\")"
   ]
  },
  {
   "cell_type": "markdown",
   "metadata": {},
   "source": [
    "## Daily"
   ]
  },
  {
   "cell_type": "code",
   "execution_count": 155,
   "metadata": {},
   "outputs": [],
   "source": [
    "daily_sales = daily_sales.rename({\"Unnamed: 0\":\"Weekday\"},axis = 1)"
   ]
  },
  {
   "cell_type": "code",
   "execution_count": 47,
   "metadata": {},
   "outputs": [],
   "source": [
    "mean_sales_each_weekday = daily_sales.groupby(['Weekday']).mean()"
   ]
  },
  {
   "cell_type": "code",
   "execution_count": 106,
   "metadata": {},
   "outputs": [],
   "source": [
    "mean_sales_each_weekday = mean_sales_each_weekday.reset_index()\n",
    "mean_sales_each_weekday['Weekday'] = pd.Categorical(mean_sales_each_weekday['Weekday'], ['Monday', 'Tuesday','Wednesday','Thursday','Friday','Saturday','Sunday'])\n",
    "mean_sales_each_weekday = mean_sales_each_weekday.sort_values('Weekday')"
   ]
  },
  {
   "cell_type": "code",
   "execution_count": 108,
   "metadata": {},
   "outputs": [],
   "source": [
    "mean_sales_each_weekday.set_index(['Weekday'], inplace = True)"
   ]
  },
  {
   "cell_type": "code",
   "execution_count": 109,
   "metadata": {},
   "outputs": [
    {
     "data": {
      "text/html": [
       "<div>\n",
       "<style scoped>\n",
       "    .dataframe tbody tr th:only-of-type {\n",
       "        vertical-align: middle;\n",
       "    }\n",
       "\n",
       "    .dataframe tbody tr th {\n",
       "        vertical-align: top;\n",
       "    }\n",
       "\n",
       "    .dataframe thead th {\n",
       "        text-align: right;\n",
       "    }\n",
       "</style>\n",
       "<table border=\"1\" class=\"dataframe\">\n",
       "  <thead>\n",
       "    <tr style=\"text-align: right;\">\n",
       "      <th></th>\n",
       "      <th>HM-NE</th>\n",
       "      <th>CF-NE</th>\n",
       "      <th>FF-NE</th>\n",
       "      <th>HM-SW</th>\n",
       "      <th>CF-SW</th>\n",
       "      <th>FF-SW</th>\n",
       "      <th>HM-NW</th>\n",
       "      <th>CF-NW</th>\n",
       "      <th>FF-NW</th>\n",
       "      <th>HM-SE</th>\n",
       "      <th>CF-SE</th>\n",
       "      <th>FF-SE</th>\n",
       "      <th>HM-C</th>\n",
       "      <th>CF-C</th>\n",
       "      <th>FF-C</th>\n",
       "    </tr>\n",
       "    <tr>\n",
       "      <th>Weekday</th>\n",
       "      <th></th>\n",
       "      <th></th>\n",
       "      <th></th>\n",
       "      <th></th>\n",
       "      <th></th>\n",
       "      <th></th>\n",
       "      <th></th>\n",
       "      <th></th>\n",
       "      <th></th>\n",
       "      <th></th>\n",
       "      <th></th>\n",
       "      <th></th>\n",
       "      <th></th>\n",
       "      <th></th>\n",
       "      <th></th>\n",
       "    </tr>\n",
       "  </thead>\n",
       "  <tbody>\n",
       "    <tr>\n",
       "      <th>Monday</th>\n",
       "      <td>36851.75</td>\n",
       "      <td>16411.00</td>\n",
       "      <td>9284.25</td>\n",
       "      <td>34916.0</td>\n",
       "      <td>16115.00</td>\n",
       "      <td>9241.25</td>\n",
       "      <td>37262.75</td>\n",
       "      <td>15342.5</td>\n",
       "      <td>8649.75</td>\n",
       "      <td>35160.25</td>\n",
       "      <td>14291.5</td>\n",
       "      <td>8712.75</td>\n",
       "      <td>37177.75</td>\n",
       "      <td>14883.75</td>\n",
       "      <td>8863.50</td>\n",
       "    </tr>\n",
       "    <tr>\n",
       "      <th>Tuesday</th>\n",
       "      <td>37134.25</td>\n",
       "      <td>16027.75</td>\n",
       "      <td>9576.50</td>\n",
       "      <td>35669.0</td>\n",
       "      <td>14758.75</td>\n",
       "      <td>8891.50</td>\n",
       "      <td>36158.50</td>\n",
       "      <td>15496.5</td>\n",
       "      <td>8787.75</td>\n",
       "      <td>34840.50</td>\n",
       "      <td>15077.5</td>\n",
       "      <td>8402.50</td>\n",
       "      <td>36539.50</td>\n",
       "      <td>14164.75</td>\n",
       "      <td>8498.00</td>\n",
       "    </tr>\n",
       "    <tr>\n",
       "      <th>Wednesday</th>\n",
       "      <td>36671.75</td>\n",
       "      <td>16443.75</td>\n",
       "      <td>9513.75</td>\n",
       "      <td>36445.0</td>\n",
       "      <td>15202.00</td>\n",
       "      <td>9503.50</td>\n",
       "      <td>36393.75</td>\n",
       "      <td>15431.0</td>\n",
       "      <td>9328.75</td>\n",
       "      <td>35664.75</td>\n",
       "      <td>14814.5</td>\n",
       "      <td>8867.50</td>\n",
       "      <td>36129.50</td>\n",
       "      <td>14558.00</td>\n",
       "      <td>8992.00</td>\n",
       "    </tr>\n",
       "    <tr>\n",
       "      <th>Thursday</th>\n",
       "      <td>36636.00</td>\n",
       "      <td>16469.50</td>\n",
       "      <td>11797.50</td>\n",
       "      <td>35963.5</td>\n",
       "      <td>14483.00</td>\n",
       "      <td>9390.75</td>\n",
       "      <td>35413.00</td>\n",
       "      <td>16250.5</td>\n",
       "      <td>9273.75</td>\n",
       "      <td>35132.75</td>\n",
       "      <td>14579.0</td>\n",
       "      <td>8802.25</td>\n",
       "      <td>36322.00</td>\n",
       "      <td>14123.00</td>\n",
       "      <td>9093.25</td>\n",
       "    </tr>\n",
       "    <tr>\n",
       "      <th>Friday</th>\n",
       "      <td>36478.20</td>\n",
       "      <td>15701.60</td>\n",
       "      <td>7634.20</td>\n",
       "      <td>37828.4</td>\n",
       "      <td>15783.60</td>\n",
       "      <td>10821.00</td>\n",
       "      <td>36121.60</td>\n",
       "      <td>15422.8</td>\n",
       "      <td>10405.60</td>\n",
       "      <td>35506.80</td>\n",
       "      <td>14695.2</td>\n",
       "      <td>11769.40</td>\n",
       "      <td>35986.00</td>\n",
       "      <td>14296.00</td>\n",
       "      <td>12136.60</td>\n",
       "    </tr>\n",
       "    <tr>\n",
       "      <th>Saturday</th>\n",
       "      <td>36361.20</td>\n",
       "      <td>14994.20</td>\n",
       "      <td>7400.20</td>\n",
       "      <td>35949.2</td>\n",
       "      <td>14175.00</td>\n",
       "      <td>7992.80</td>\n",
       "      <td>35332.20</td>\n",
       "      <td>15176.4</td>\n",
       "      <td>8536.60</td>\n",
       "      <td>36173.40</td>\n",
       "      <td>14735.8</td>\n",
       "      <td>7831.40</td>\n",
       "      <td>36550.40</td>\n",
       "      <td>14779.20</td>\n",
       "      <td>8345.40</td>\n",
       "    </tr>\n",
       "    <tr>\n",
       "      <th>Sunday</th>\n",
       "      <td>37516.60</td>\n",
       "      <td>15983.00</td>\n",
       "      <td>9875.60</td>\n",
       "      <td>36740.6</td>\n",
       "      <td>15308.00</td>\n",
       "      <td>7792.80</td>\n",
       "      <td>34687.40</td>\n",
       "      <td>15800.2</td>\n",
       "      <td>7806.60</td>\n",
       "      <td>34688.00</td>\n",
       "      <td>14811.8</td>\n",
       "      <td>7322.80</td>\n",
       "      <td>35823.80</td>\n",
       "      <td>14932.80</td>\n",
       "      <td>7484.40</td>\n",
       "    </tr>\n",
       "  </tbody>\n",
       "</table>\n",
       "</div>"
      ],
      "text/plain": [
       "              HM-NE     CF-NE     FF-NE    HM-SW     CF-SW     FF-SW  \\\n",
       "Weekday                                                                \n",
       "Monday     36851.75  16411.00   9284.25  34916.0  16115.00   9241.25   \n",
       "Tuesday    37134.25  16027.75   9576.50  35669.0  14758.75   8891.50   \n",
       "Wednesday  36671.75  16443.75   9513.75  36445.0  15202.00   9503.50   \n",
       "Thursday   36636.00  16469.50  11797.50  35963.5  14483.00   9390.75   \n",
       "Friday     36478.20  15701.60   7634.20  37828.4  15783.60  10821.00   \n",
       "Saturday   36361.20  14994.20   7400.20  35949.2  14175.00   7992.80   \n",
       "Sunday     37516.60  15983.00   9875.60  36740.6  15308.00   7792.80   \n",
       "\n",
       "              HM-NW    CF-NW     FF-NW     HM-SE    CF-SE     FF-SE      HM-C  \\\n",
       "Weekday                                                                         \n",
       "Monday     37262.75  15342.5   8649.75  35160.25  14291.5   8712.75  37177.75   \n",
       "Tuesday    36158.50  15496.5   8787.75  34840.50  15077.5   8402.50  36539.50   \n",
       "Wednesday  36393.75  15431.0   9328.75  35664.75  14814.5   8867.50  36129.50   \n",
       "Thursday   35413.00  16250.5   9273.75  35132.75  14579.0   8802.25  36322.00   \n",
       "Friday     36121.60  15422.8  10405.60  35506.80  14695.2  11769.40  35986.00   \n",
       "Saturday   35332.20  15176.4   8536.60  36173.40  14735.8   7831.40  36550.40   \n",
       "Sunday     34687.40  15800.2   7806.60  34688.00  14811.8   7322.80  35823.80   \n",
       "\n",
       "               CF-C      FF-C  \n",
       "Weekday                        \n",
       "Monday     14883.75   8863.50  \n",
       "Tuesday    14164.75   8498.00  \n",
       "Wednesday  14558.00   8992.00  \n",
       "Thursday   14123.00   9093.25  \n",
       "Friday     14296.00  12136.60  \n",
       "Saturday   14779.20   8345.40  \n",
       "Sunday     14932.80   7484.40  "
      ]
     },
     "execution_count": 109,
     "metadata": {},
     "output_type": "execute_result"
    }
   ],
   "source": [
    "mean_sales_each_weekday"
   ]
  },
  {
   "cell_type": "code",
   "execution_count": 110,
   "metadata": {},
   "outputs": [],
   "source": [
    "weekday_sales = mean_sales_each_weekday.sum(axis = 1)#.plot()"
   ]
  },
  {
   "cell_type": "code",
   "execution_count": 217,
   "metadata": {},
   "outputs": [
    {
     "name": "stderr",
     "output_type": "stream",
     "text": [
      "/anaconda3/lib/python3.7/site-packages/ipykernel_launcher.py:1: FutureWarning: The signature of `Series.to_csv` was aligned to that of `DataFrame.to_csv`, and argument 'header' will change its default value from False to True: please pass an explicit value to suppress this warning.\n",
      "  \"\"\"Entry point for launching an IPython kernel.\n"
     ]
    }
   ],
   "source": [
    "weekday_sales.to_csv(\"weekday_sales.csv\")"
   ]
  },
  {
   "cell_type": "code",
   "execution_count": 219,
   "metadata": {},
   "outputs": [
    {
     "data": {
      "text/plain": [
       "<matplotlib.axes._subplots.AxesSubplot at 0x1221a93c8>"
      ]
     },
     "execution_count": 219,
     "metadata": {},
     "output_type": "execute_result"
    },
    {
     "data": {
      "image/png": "[encoded data removed]",
      "text/plain": [
       "<Figure size 432x288 with 1 Axes>"
      ]
     },
     "metadata": {
      "needs_background": "light"
     },
     "output_type": "display_data"
    }
   ],
   "source": [
    "weekday_sales.plot()"
   ]
  },
  {
   "cell_type": "code",
   "execution_count": 115,
   "metadata": {},
   "outputs": [],
   "source": [
    "## HM\n",
    "HM_selection = [True, False, False]*5\n",
    "HM_weekday_sales = mean_sales_each_weekday.iloc[:,HM_selection].sum(axis=1)\n",
    "## CF\n",
    "CF_selection = [False, True, False]*5\n",
    "CF_weekday_sales = mean_sales_each_weekday.iloc[:,CF_selection].sum(axis=1)\n",
    "## FF\n",
    "FF_selection = [False, False, True]*5\n",
    "FF_weekday_sales = mean_sales_each_weekday.iloc[:,FF_selection].sum(axis=1)"
   ]
  },
  {
   "cell_type": "code",
   "execution_count": 119,
   "metadata": {},
   "outputs": [
    {
     "data": {
      "text/plain": [
       "Weekday\n",
       "Monday       181368.50\n",
       "Tuesday      180341.75\n",
       "Wednesday    181304.75\n",
       "Thursday     179467.25\n",
       "Friday       181921.00\n",
       "Saturday     180366.40\n",
       "Sunday       179456.40\n",
       "dtype: float64"
      ]
     },
     "execution_count": 119,
     "metadata": {},
     "output_type": "execute_result"
    }
   ],
   "source": [
    "HM_weekday_sales"
   ]
  },
  {
   "cell_type": "code",
   "execution_count": 116,
   "metadata": {},
   "outputs": [
    {
     "data": {
      "text/plain": [
       "<matplotlib.axes._subplots.AxesSubplot at 0x122508cc0>"
      ]
     },
     "execution_count": 116,
     "metadata": {},
     "output_type": "execute_result"
    },
    {
     "data": {
      "image/png": "[encoded data removed]",
      "text/plain": [
       "<Figure size 432x288 with 1 Axes>"
      ]
     },
     "metadata": {
      "needs_background": "light"
     },
     "output_type": "display_data"
    }
   ],
   "source": [
    "HM_weekday_sales.plot()"
   ]
  },
  {
   "cell_type": "code",
   "execution_count": 117,
   "metadata": {},
   "outputs": [
    {
     "data": {
      "text/plain": [
       "<matplotlib.axes._subplots.AxesSubplot at 0x12230e400>"
      ]
     },
     "execution_count": 117,
     "metadata": {},
     "output_type": "execute_result"
    },
    {
     "data": {
      "image/png": "[encoded data removed]",
      "text/plain": [
       "<Figure size 432x288 with 1 Axes>"
      ]
     },
     "metadata": {
      "needs_background": "light"
     },
     "output_type": "display_data"
    }
   ],
   "source": [
    "CF_weekday_sales.plot()"
   ]
  },
  {
   "cell_type": "code",
   "execution_count": 218,
   "metadata": {},
   "outputs": [
    {
     "data": {
      "text/plain": [
       "<matplotlib.axes._subplots.AxesSubplot at 0x12534cd68>"
      ]
     },
     "execution_count": 218,
     "metadata": {},
     "output_type": "execute_result"
    },
    {
     "data": {
      "image/png": "[encoded data removed]",
      "text/plain": [
       "<Figure size 432x288 with 1 Axes>"
      ]
     },
     "metadata": {
      "needs_background": "light"
     },
     "output_type": "display_data"
    }
   ],
   "source": [
    "FF_weekday_sales.plot()"
   ]
  },
  {
   "cell_type": "code",
   "execution_count": 140,
   "metadata": {},
   "outputs": [],
   "source": [
    "first_week = daily_sales.iloc[3:10,:].set_index(['Weekday']).drop(['Day'], axis = 1)\n",
    "second_week = daily_sales.iloc[10:17,:].set_index(['Weekday']).drop(['Day'], axis = 1)\n",
    "third_week = daily_sales.iloc[17:24,:].set_index(['Weekday']).drop(['Day'], axis = 1)\n",
    "fourth_week = daily_sales.iloc[24:31,:].set_index(['Weekday']).drop(['Day'], axis = 1)"
   ]
  },
  {
   "cell_type": "code",
   "execution_count": 144,
   "metadata": {},
   "outputs": [],
   "source": [
    "four_weeks = pd.DataFrame()\n",
    "four_weeks['week1'] = first_week.mean(axis = 1)\n",
    "four_weeks['week2'] = second_week.mean(axis = 1)\n",
    "four_weeks['week3'] = third_week.mean(axis = 1)\n",
    "four_weeks['week4'] = fourth_week.mean(axis = 1)"
   ]
  },
  {
   "cell_type": "code",
   "execution_count": 147,
   "metadata": {},
   "outputs": [
    {
     "data": {
      "text/plain": [
       "<matplotlib.axes._subplots.AxesSubplot at 0x122756b38>"
      ]
     },
     "execution_count": 147,
     "metadata": {},
     "output_type": "execute_result"
    },
    {
     "data": {
      "image/png": "[encoded data removed]",
      "text/plain": [
       "<Figure size 432x288 with 1 Axes>"
      ]
     },
     "metadata": {
      "needs_background": "light"
     },
     "output_type": "display_data"
    }
   ],
   "source": [
    "four_weeks.plot()"
   ]
  },
  {
   "cell_type": "code",
   "execution_count": 148,
   "metadata": {},
   "outputs": [
    {
     "data": {
      "text/html": [
       "<div>\n",
       "<style scoped>\n",
       "    .dataframe tbody tr th:only-of-type {\n",
       "        vertical-align: middle;\n",
       "    }\n",
       "\n",
       "    .dataframe tbody tr th {\n",
       "        vertical-align: top;\n",
       "    }\n",
       "\n",
       "    .dataframe thead th {\n",
       "        text-align: right;\n",
       "    }\n",
       "</style>\n",
       "<table border=\"1\" class=\"dataframe\">\n",
       "  <thead>\n",
       "    <tr style=\"text-align: right;\">\n",
       "      <th></th>\n",
       "      <th>week1</th>\n",
       "      <th>week2</th>\n",
       "      <th>week3</th>\n",
       "      <th>week4</th>\n",
       "    </tr>\n",
       "    <tr>\n",
       "      <th>Weekday</th>\n",
       "      <th></th>\n",
       "      <th></th>\n",
       "      <th></th>\n",
       "      <th></th>\n",
       "    </tr>\n",
       "  </thead>\n",
       "  <tbody>\n",
       "    <tr>\n",
       "      <th>Monday</th>\n",
       "      <td>20029.866667</td>\n",
       "      <td>20575.066667</td>\n",
       "      <td>20052.933333</td>\n",
       "      <td>20185.800000</td>\n",
       "    </tr>\n",
       "    <tr>\n",
       "      <th>Tuesday</th>\n",
       "      <td>20369.733333</td>\n",
       "      <td>19877.800000</td>\n",
       "      <td>19649.533333</td>\n",
       "      <td>20109.133333</td>\n",
       "    </tr>\n",
       "    <tr>\n",
       "      <th>Wednesday</th>\n",
       "      <td>20209.466667</td>\n",
       "      <td>20477.933333</td>\n",
       "      <td>19845.733333</td>\n",
       "      <td>20522.733333</td>\n",
       "    </tr>\n",
       "    <tr>\n",
       "      <th>Thursday</th>\n",
       "      <td>20058.000000</td>\n",
       "      <td>20254.533333</td>\n",
       "      <td>20448.800000</td>\n",
       "      <td>20233.266667</td>\n",
       "    </tr>\n",
       "    <tr>\n",
       "      <th>Friday</th>\n",
       "      <td>20416.600000</td>\n",
       "      <td>20738.533333</td>\n",
       "      <td>21062.800000</td>\n",
       "      <td>20386.333333</td>\n",
       "    </tr>\n",
       "    <tr>\n",
       "      <th>Saturday</th>\n",
       "      <td>19253.066667</td>\n",
       "      <td>19805.800000</td>\n",
       "      <td>19633.266667</td>\n",
       "      <td>19606.266667</td>\n",
       "    </tr>\n",
       "    <tr>\n",
       "      <th>Sunday</th>\n",
       "      <td>19900.066667</td>\n",
       "      <td>19770.466667</td>\n",
       "      <td>19617.933333</td>\n",
       "      <td>19813.133333</td>\n",
       "    </tr>\n",
       "  </tbody>\n",
       "</table>\n",
       "</div>"
      ],
      "text/plain": [
       "                  week1         week2         week3         week4\n",
       "Weekday                                                          \n",
       "Monday     20029.866667  20575.066667  20052.933333  20185.800000\n",
       "Tuesday    20369.733333  19877.800000  19649.533333  20109.133333\n",
       "Wednesday  20209.466667  20477.933333  19845.733333  20522.733333\n",
       "Thursday   20058.000000  20254.533333  20448.800000  20233.266667\n",
       "Friday     20416.600000  20738.533333  21062.800000  20386.333333\n",
       "Saturday   19253.066667  19805.800000  19633.266667  19606.266667\n",
       "Sunday     19900.066667  19770.466667  19617.933333  19813.133333"
      ]
     },
     "execution_count": 148,
     "metadata": {},
     "output_type": "execute_result"
    }
   ],
   "source": [
    "four_weeks"
   ]
  },
  {
   "cell_type": "code",
   "execution_count": null,
   "metadata": {},
   "outputs": [],
   "source": []
  },
  {
   "cell_type": "code",
   "execution_count": null,
   "metadata": {},
   "outputs": [],
   "source": []
  },
  {
   "cell_type": "markdown",
   "metadata": {},
   "source": [
    "## Monthly"
   ]
  },
  {
   "cell_type": "code",
   "execution_count": 230,
   "metadata": {
    "scrolled": true
   },
   "outputs": [
    {
     "data": {
      "text/html": [
       "<div>\n",
       "<style scoped>\n",
       "    .dataframe tbody tr th:only-of-type {\n",
       "        vertical-align: middle;\n",
       "    }\n",
       "\n",
       "    .dataframe tbody tr th {\n",
       "        vertical-align: top;\n",
       "    }\n",
       "\n",
       "    .dataframe thead th {\n",
       "        text-align: right;\n",
       "    }\n",
       "</style>\n",
       "<table border=\"1\" class=\"dataframe\">\n",
       "  <thead>\n",
       "    <tr style=\"text-align: right;\">\n",
       "      <th></th>\n",
       "      <th>HM-NE</th>\n",
       "      <th>CF-NE</th>\n",
       "      <th>FF-NE</th>\n",
       "      <th>HM-SW</th>\n",
       "      <th>CF-SW</th>\n",
       "      <th>FF-SW</th>\n",
       "      <th>HM-NW</th>\n",
       "      <th>CF-NW</th>\n",
       "      <th>FF-NW</th>\n",
       "      <th>HM-SE</th>\n",
       "      <th>CF-SE</th>\n",
       "      <th>FF-SE</th>\n",
       "      <th>HM-C</th>\n",
       "      <th>CF-C</th>\n",
       "      <th>FF-C</th>\n",
       "    </tr>\n",
       "    <tr>\n",
       "      <th>Month, Year</th>\n",
       "      <th></th>\n",
       "      <th></th>\n",
       "      <th></th>\n",
       "      <th></th>\n",
       "      <th></th>\n",
       "      <th></th>\n",
       "      <th></th>\n",
       "      <th></th>\n",
       "      <th></th>\n",
       "      <th></th>\n",
       "      <th></th>\n",
       "      <th></th>\n",
       "      <th></th>\n",
       "      <th></th>\n",
       "      <th></th>\n",
       "    </tr>\n",
       "  </thead>\n",
       "  <tbody>\n",
       "    <tr>\n",
       "      <th>Jan-16</th>\n",
       "      <td>1140955</td>\n",
       "      <td>494802</td>\n",
       "      <td>285238</td>\n",
       "      <td>1124565</td>\n",
       "      <td>468568</td>\n",
       "      <td>281141</td>\n",
       "      <td>1111618</td>\n",
       "      <td>482079</td>\n",
       "      <td>277904</td>\n",
       "      <td>1095034</td>\n",
       "      <td>456264</td>\n",
       "      <td>273758</td>\n",
       "      <td>1126476</td>\n",
       "      <td>450958</td>\n",
       "      <td>281619</td>\n",
       "    </tr>\n",
       "    <tr>\n",
       "      <th>Feb-16</th>\n",
       "      <td>1175529</td>\n",
       "      <td>489804</td>\n",
       "      <td>293882</td>\n",
       "      <td>1200559</td>\n",
       "      <td>480616</td>\n",
       "      <td>288369</td>\n",
       "      <td>1188037</td>\n",
       "      <td>475603</td>\n",
       "      <td>297009</td>\n",
       "      <td>1167009</td>\n",
       "      <td>486254</td>\n",
       "      <td>280311</td>\n",
       "      <td>1109076</td>\n",
       "      <td>462115</td>\n",
       "      <td>288586</td>\n",
       "    </tr>\n",
       "    <tr>\n",
       "      <th>Mar-16</th>\n",
       "      <td>1235995</td>\n",
       "      <td>494802</td>\n",
       "      <td>296881</td>\n",
       "      <td>1220454</td>\n",
       "      <td>508522</td>\n",
       "      <td>293148</td>\n",
       "      <td>1151657</td>\n",
       "      <td>499443</td>\n",
       "      <td>287914</td>\n",
       "      <td>1133899</td>\n",
       "      <td>472458</td>\n",
       "      <td>295045</td>\n",
       "      <td>1167894</td>\n",
       "      <td>486622</td>\n",
       "      <td>280523</td>\n",
       "    </tr>\n",
       "    <tr>\n",
       "      <th>Apr-16</th>\n",
       "      <td>1186592</td>\n",
       "      <td>514593</td>\n",
       "      <td>296648</td>\n",
       "      <td>1213616</td>\n",
       "      <td>485843</td>\n",
       "      <td>291505</td>\n",
       "      <td>1149180</td>\n",
       "      <td>498369</td>\n",
       "      <td>299021</td>\n",
       "      <td>1133767</td>\n",
       "      <td>491684</td>\n",
       "      <td>283441</td>\n",
       "      <td>1116560</td>\n",
       "      <td>465233</td>\n",
       "      <td>290533</td>\n",
       "    </tr>\n",
       "    <tr>\n",
       "      <th>May-16</th>\n",
       "      <td>1272450</td>\n",
       "      <td>530187</td>\n",
       "      <td>305637</td>\n",
       "      <td>1249686</td>\n",
       "      <td>520702</td>\n",
       "      <td>312421</td>\n",
       "      <td>1187579</td>\n",
       "      <td>494824</td>\n",
       "      <td>296894</td>\n",
       "      <td>1215080</td>\n",
       "      <td>506283</td>\n",
       "      <td>291857</td>\n",
       "      <td>1155612</td>\n",
       "      <td>481505</td>\n",
       "      <td>300695</td>\n",
       "    </tr>\n",
       "    <tr>\n",
       "      <th>Jun-16</th>\n",
       "      <td>1235025</td>\n",
       "      <td>535597</td>\n",
       "      <td>321358</td>\n",
       "      <td>1213908</td>\n",
       "      <td>505795</td>\n",
       "      <td>303477</td>\n",
       "      <td>1239785</td>\n",
       "      <td>496319</td>\n",
       "      <td>297791</td>\n",
       "      <td>1217717</td>\n",
       "      <td>487485</td>\n",
       "      <td>292491</td>\n",
       "      <td>1149673</td>\n",
       "      <td>479030</td>\n",
       "      <td>299149</td>\n",
       "    </tr>\n",
       "    <tr>\n",
       "      <th>Jul-16</th>\n",
       "      <td>1284426</td>\n",
       "      <td>535177</td>\n",
       "      <td>321106</td>\n",
       "      <td>1269486</td>\n",
       "      <td>508209</td>\n",
       "      <td>317371</td>\n",
       "      <td>1202069</td>\n",
       "      <td>500862</td>\n",
       "      <td>312783</td>\n",
       "      <td>1186438</td>\n",
       "      <td>494349</td>\n",
       "      <td>296609</td>\n",
       "      <td>1220954</td>\n",
       "      <td>508730</td>\n",
       "      <td>305238</td>\n",
       "    </tr>\n",
       "    <tr>\n",
       "      <th>Aug-16</th>\n",
       "      <td>1323348</td>\n",
       "      <td>551395</td>\n",
       "      <td>330837</td>\n",
       "      <td>1358134</td>\n",
       "      <td>565889</td>\n",
       "      <td>326218</td>\n",
       "      <td>1283993</td>\n",
       "      <td>534997</td>\n",
       "      <td>320998</td>\n",
       "      <td>1319163</td>\n",
       "      <td>528096</td>\n",
       "      <td>316857</td>\n",
       "      <td>1252825</td>\n",
       "      <td>543317</td>\n",
       "      <td>325990</td>\n",
       "    </tr>\n",
       "    <tr>\n",
       "      <th>Sep-16</th>\n",
       "      <td>1284426</td>\n",
       "      <td>535177</td>\n",
       "      <td>334213</td>\n",
       "      <td>1268860</td>\n",
       "      <td>528691</td>\n",
       "      <td>330162</td>\n",
       "      <td>1295077</td>\n",
       "      <td>518454</td>\n",
       "      <td>311072</td>\n",
       "      <td>1279199</td>\n",
       "      <td>532999</td>\n",
       "      <td>319799</td>\n",
       "      <td>1255322</td>\n",
       "      <td>502539</td>\n",
       "      <td>313830</td>\n",
       "    </tr>\n",
       "    <tr>\n",
       "      <th>Oct-16</th>\n",
       "      <td>1280303</td>\n",
       "      <td>555233</td>\n",
       "      <td>333140</td>\n",
       "      <td>1315120</td>\n",
       "      <td>526477</td>\n",
       "      <td>328780</td>\n",
       "      <td>1301675</td>\n",
       "      <td>521095</td>\n",
       "      <td>312657</td>\n",
       "      <td>1233342</td>\n",
       "      <td>534868</td>\n",
       "      <td>320920</td>\n",
       "      <td>1213425</td>\n",
       "      <td>526230</td>\n",
       "      <td>315738</td>\n",
       "    </tr>\n",
       "    <tr>\n",
       "      <th>Nov-16</th>\n",
       "      <td>1319100</td>\n",
       "      <td>572058</td>\n",
       "      <td>343235</td>\n",
       "      <td>1348519</td>\n",
       "      <td>561883</td>\n",
       "      <td>337129</td>\n",
       "      <td>1276693</td>\n",
       "      <td>553667</td>\n",
       "      <td>332200</td>\n",
       "      <td>1257908</td>\n",
       "      <td>545521</td>\n",
       "      <td>327313</td>\n",
       "      <td>1288024</td>\n",
       "      <td>515630</td>\n",
       "      <td>322006</td>\n",
       "    </tr>\n",
       "    <tr>\n",
       "      <th>Dec-16</th>\n",
       "      <td>1280303</td>\n",
       "      <td>533459</td>\n",
       "      <td>320075</td>\n",
       "      <td>1306490</td>\n",
       "      <td>523023</td>\n",
       "      <td>313813</td>\n",
       "      <td>1287225</td>\n",
       "      <td>515310</td>\n",
       "      <td>309186</td>\n",
       "      <td>1266216</td>\n",
       "      <td>527590</td>\n",
       "      <td>316554</td>\n",
       "      <td>1199842</td>\n",
       "      <td>499934</td>\n",
       "      <td>299960</td>\n",
       "    </tr>\n",
       "    <tr>\n",
       "      <th>Jan-17</th>\n",
       "      <td>1381012</td>\n",
       "      <td>575421</td>\n",
       "      <td>345253</td>\n",
       "      <td>1356550</td>\n",
       "      <td>565229</td>\n",
       "      <td>339137</td>\n",
       "      <td>1341018</td>\n",
       "      <td>558757</td>\n",
       "      <td>348938</td>\n",
       "      <td>1316604</td>\n",
       "      <td>570976</td>\n",
       "      <td>329151</td>\n",
       "      <td>1290590</td>\n",
       "      <td>537745</td>\n",
       "      <td>335816</td>\n",
       "    </tr>\n",
       "    <tr>\n",
       "      <th>Feb-17</th>\n",
       "      <td>1480936</td>\n",
       "      <td>617056</td>\n",
       "      <td>355715</td>\n",
       "      <td>1451591</td>\n",
       "      <td>604829</td>\n",
       "      <td>362897</td>\n",
       "      <td>1428344</td>\n",
       "      <td>571804</td>\n",
       "      <td>357086</td>\n",
       "      <td>1405780</td>\n",
       "      <td>562771</td>\n",
       "      <td>337662</td>\n",
       "      <td>1386331</td>\n",
       "      <td>554985</td>\n",
       "      <td>346582</td>\n",
       "    </tr>\n",
       "    <tr>\n",
       "      <th>Mar-17</th>\n",
       "      <td>1381012</td>\n",
       "      <td>598908</td>\n",
       "      <td>359344</td>\n",
       "      <td>1358087</td>\n",
       "      <td>588966</td>\n",
       "      <td>353379</td>\n",
       "      <td>1393347</td>\n",
       "      <td>557794</td>\n",
       "      <td>348336</td>\n",
       "      <td>1378270</td>\n",
       "      <td>574279</td>\n",
       "      <td>331055</td>\n",
       "      <td>1307257</td>\n",
       "      <td>566922</td>\n",
       "      <td>340153</td>\n",
       "    </tr>\n",
       "    <tr>\n",
       "      <th>Apr-17</th>\n",
       "      <td>1429463</td>\n",
       "      <td>572252</td>\n",
       "      <td>357365</td>\n",
       "      <td>1411049</td>\n",
       "      <td>564881</td>\n",
       "      <td>352762</td>\n",
       "      <td>1329007</td>\n",
       "      <td>576355</td>\n",
       "      <td>332251</td>\n",
       "      <td>1358906</td>\n",
       "      <td>544006</td>\n",
       "      <td>339726</td>\n",
       "      <td>1335282</td>\n",
       "      <td>556367</td>\n",
       "      <td>333820</td>\n",
       "    </tr>\n",
       "    <tr>\n",
       "      <th>May-17</th>\n",
       "      <td>1472779</td>\n",
       "      <td>589593</td>\n",
       "      <td>353755</td>\n",
       "      <td>1395077</td>\n",
       "      <td>581282</td>\n",
       "      <td>363004</td>\n",
       "      <td>1367489</td>\n",
       "      <td>593043</td>\n",
       "      <td>341872</td>\n",
       "      <td>1347357</td>\n",
       "      <td>561398</td>\n",
       "      <td>350587</td>\n",
       "      <td>1381392</td>\n",
       "      <td>553008</td>\n",
       "      <td>345348</td>\n",
       "    </tr>\n",
       "    <tr>\n",
       "      <th>Jun-17</th>\n",
       "      <td>1487808</td>\n",
       "      <td>619920</td>\n",
       "      <td>357365</td>\n",
       "      <td>1471677</td>\n",
       "      <td>589151</td>\n",
       "      <td>353491</td>\n",
       "      <td>1442457</td>\n",
       "      <td>601024</td>\n",
       "      <td>346472</td>\n",
       "      <td>1420841</td>\n",
       "      <td>568801</td>\n",
       "      <td>341280</td>\n",
       "      <td>1344775</td>\n",
       "      <td>583193</td>\n",
       "      <td>349916</td>\n",
       "    </tr>\n",
       "    <tr>\n",
       "      <th>Jul-17</th>\n",
       "      <td>1419956</td>\n",
       "      <td>615797</td>\n",
       "      <td>354989</td>\n",
       "      <td>1391670</td>\n",
       "      <td>603530</td>\n",
       "      <td>362118</td>\n",
       "      <td>1367838</td>\n",
       "      <td>593195</td>\n",
       "      <td>341959</td>\n",
       "      <td>1343314</td>\n",
       "      <td>582559</td>\n",
       "      <td>349535</td>\n",
       "      <td>1318052</td>\n",
       "      <td>549188</td>\n",
       "      <td>342962</td>\n",
       "    </tr>\n",
       "    <tr>\n",
       "      <th>Aug-17</th>\n",
       "      <td>1522698</td>\n",
       "      <td>634457</td>\n",
       "      <td>380674</td>\n",
       "      <td>1560316</td>\n",
       "      <td>650131</td>\n",
       "      <td>374781</td>\n",
       "      <td>1536702</td>\n",
       "      <td>640292</td>\n",
       "      <td>384175</td>\n",
       "      <td>1447084</td>\n",
       "      <td>627562</td>\n",
       "      <td>376537</td>\n",
       "      <td>1431076</td>\n",
       "      <td>620620</td>\n",
       "      <td>372372</td>\n",
       "    </tr>\n",
       "    <tr>\n",
       "      <th>Sep-17</th>\n",
       "      <td>1538236</td>\n",
       "      <td>615797</td>\n",
       "      <td>369478</td>\n",
       "      <td>1462819</td>\n",
       "      <td>634386</td>\n",
       "      <td>365704</td>\n",
       "      <td>1433985</td>\n",
       "      <td>597493</td>\n",
       "      <td>373128</td>\n",
       "      <td>1467806</td>\n",
       "      <td>611586</td>\n",
       "      <td>352561</td>\n",
       "      <td>1450080</td>\n",
       "      <td>604200</td>\n",
       "      <td>348303</td>\n",
       "    </tr>\n",
       "    <tr>\n",
       "      <th>Oct-17</th>\n",
       "      <td>1466507</td>\n",
       "      <td>611044</td>\n",
       "      <td>366626</td>\n",
       "      <td>1448688</td>\n",
       "      <td>603620</td>\n",
       "      <td>376954</td>\n",
       "      <td>1478973</td>\n",
       "      <td>592072</td>\n",
       "      <td>355243</td>\n",
       "      <td>1401670</td>\n",
       "      <td>607867</td>\n",
       "      <td>350417</td>\n",
       "      <td>1374453</td>\n",
       "      <td>572688</td>\n",
       "      <td>357638</td>\n",
       "    </tr>\n",
       "    <tr>\n",
       "      <th>Nov-17</th>\n",
       "      <td>1572618</td>\n",
       "      <td>655257</td>\n",
       "      <td>393154</td>\n",
       "      <td>1542173</td>\n",
       "      <td>617373</td>\n",
       "      <td>385543</td>\n",
       "      <td>1519708</td>\n",
       "      <td>633211</td>\n",
       "      <td>365028</td>\n",
       "      <td>1439282</td>\n",
       "      <td>599701</td>\n",
       "      <td>374507</td>\n",
       "      <td>1475555</td>\n",
       "      <td>590704</td>\n",
       "      <td>368888</td>\n",
       "    </tr>\n",
       "    <tr>\n",
       "      <th>Dec-17</th>\n",
       "      <td>1588665</td>\n",
       "      <td>661944</td>\n",
       "      <td>397166</td>\n",
       "      <td>1570750</td>\n",
       "      <td>628813</td>\n",
       "      <td>392687</td>\n",
       "      <td>1492847</td>\n",
       "      <td>647408</td>\n",
       "      <td>388445</td>\n",
       "      <td>1537545</td>\n",
       "      <td>615520</td>\n",
       "      <td>384386</td>\n",
       "      <td>1517969</td>\n",
       "      <td>632487</td>\n",
       "      <td>379492</td>\n",
       "    </tr>\n",
       "    <tr>\n",
       "      <th>Jan-18</th>\n",
       "      <td>1574815</td>\n",
       "      <td>656173</td>\n",
       "      <td>409773</td>\n",
       "      <td>1607493</td>\n",
       "      <td>643522</td>\n",
       "      <td>386113</td>\n",
       "      <td>1586799</td>\n",
       "      <td>661166</td>\n",
       "      <td>381143</td>\n",
       "      <td>1570926</td>\n",
       "      <td>628883</td>\n",
       "      <td>377330</td>\n",
       "      <td>1547730</td>\n",
       "      <td>644887</td>\n",
       "      <td>371758</td>\n",
       "    </tr>\n",
       "    <tr>\n",
       "      <th>Feb-18</th>\n",
       "      <td>1688763</td>\n",
       "      <td>703651</td>\n",
       "      <td>422190</td>\n",
       "      <td>1597750</td>\n",
       "      <td>665729</td>\n",
       "      <td>399437</td>\n",
       "      <td>1640630</td>\n",
       "      <td>656788</td>\n",
       "      <td>410157</td>\n",
       "      <td>1545259</td>\n",
       "      <td>670138</td>\n",
       "      <td>402082</td>\n",
       "      <td>1517826</td>\n",
       "      <td>632427</td>\n",
       "      <td>394944</td>\n",
       "    </tr>\n",
       "    <tr>\n",
       "      <th>Mar-18</th>\n",
       "      <td>1574816</td>\n",
       "      <td>656173</td>\n",
       "      <td>378264</td>\n",
       "      <td>1551672</td>\n",
       "      <td>621175</td>\n",
       "      <td>387918</td>\n",
       "      <td>1532001</td>\n",
       "      <td>638333</td>\n",
       "      <td>383000</td>\n",
       "      <td>1509031</td>\n",
       "      <td>628762</td>\n",
       "      <td>362463</td>\n",
       "      <td>1486792</td>\n",
       "      <td>595202</td>\n",
       "      <td>371698</td>\n",
       "    </tr>\n",
       "    <tr>\n",
       "      <th>Apr-18</th>\n",
       "      <td>1623266</td>\n",
       "      <td>676361</td>\n",
       "      <td>422380</td>\n",
       "      <td>1605619</td>\n",
       "      <td>669008</td>\n",
       "      <td>401404</td>\n",
       "      <td>1574000</td>\n",
       "      <td>655833</td>\n",
       "      <td>409561</td>\n",
       "      <td>1611615</td>\n",
       "      <td>645172</td>\n",
       "      <td>402903</td>\n",
       "      <td>1532852</td>\n",
       "      <td>638688</td>\n",
       "      <td>383213</td>\n",
       "    </tr>\n",
       "    <tr>\n",
       "      <th>May-18</th>\n",
       "      <td>1672456</td>\n",
       "      <td>725300</td>\n",
       "      <td>435180</td>\n",
       "      <td>1709237</td>\n",
       "      <td>684253</td>\n",
       "      <td>410552</td>\n",
       "      <td>1622550</td>\n",
       "      <td>676062</td>\n",
       "      <td>405637</td>\n",
       "      <td>1601156</td>\n",
       "      <td>667148</td>\n",
       "      <td>400289</td>\n",
       "      <td>1580994</td>\n",
       "      <td>685635</td>\n",
       "      <td>411381</td>\n",
       "    </tr>\n",
       "    <tr>\n",
       "      <th>Jun-18</th>\n",
       "      <td>1559609</td>\n",
       "      <td>676361</td>\n",
       "      <td>405816</td>\n",
       "      <td>1534783</td>\n",
       "      <td>665594</td>\n",
       "      <td>399356</td>\n",
       "      <td>1569245</td>\n",
       "      <td>653852</td>\n",
       "      <td>392311</td>\n",
       "      <td>1491366</td>\n",
       "      <td>621402</td>\n",
       "      <td>372841</td>\n",
       "      <td>1474712</td>\n",
       "      <td>639543</td>\n",
       "      <td>383726</td>\n",
       "    </tr>\n",
       "    <tr>\n",
       "      <th>Jul-18</th>\n",
       "      <td>1671717</td>\n",
       "      <td>669233</td>\n",
       "      <td>401540</td>\n",
       "      <td>1587310</td>\n",
       "      <td>688374</td>\n",
       "      <td>413024</td>\n",
       "      <td>1566687</td>\n",
       "      <td>679430</td>\n",
       "      <td>391671</td>\n",
       "      <td>1603342</td>\n",
       "      <td>641861</td>\n",
       "      <td>385116</td>\n",
       "      <td>1583461</td>\n",
       "      <td>659775</td>\n",
       "      <td>395865</td>\n",
       "    </tr>\n",
       "    <tr>\n",
       "      <th>Aug-18</th>\n",
       "      <td>1654831</td>\n",
       "      <td>717656</td>\n",
       "      <td>413707</td>\n",
       "      <td>1625106</td>\n",
       "      <td>704765</td>\n",
       "      <td>406276</td>\n",
       "      <td>1662321</td>\n",
       "      <td>692634</td>\n",
       "      <td>399283</td>\n",
       "      <td>1574144</td>\n",
       "      <td>682664</td>\n",
       "      <td>409598</td>\n",
       "      <td>1543848</td>\n",
       "      <td>669525</td>\n",
       "      <td>385962</td>\n",
       "    </tr>\n",
       "    <tr>\n",
       "      <th>Sep-18</th>\n",
       "      <td>1606160</td>\n",
       "      <td>696549</td>\n",
       "      <td>417929</td>\n",
       "      <td>1642152</td>\n",
       "      <td>657397</td>\n",
       "      <td>410538</td>\n",
       "      <td>1618403</td>\n",
       "      <td>647890</td>\n",
       "      <td>404600</td>\n",
       "      <td>1536130</td>\n",
       "      <td>666178</td>\n",
       "      <td>384032</td>\n",
       "      <td>1520076</td>\n",
       "      <td>659216</td>\n",
       "      <td>380019</td>\n",
       "    </tr>\n",
       "    <tr>\n",
       "      <th>Oct-18</th>\n",
       "      <td>1380063</td>\n",
       "      <td>579193</td>\n",
       "      <td>361700</td>\n",
       "      <td>1351220</td>\n",
       "      <td>594662</td>\n",
       "      <td>342805</td>\n",
       "      <td>1351293</td>\n",
       "      <td>586020</td>\n",
       "      <td>351612</td>\n",
       "      <td>1334204</td>\n",
       "      <td>555918</td>\n",
       "      <td>333551</td>\n",
       "      <td>1364454</td>\n",
       "      <td>546227</td>\n",
       "      <td>341113</td>\n",
       "    </tr>\n",
       "    <tr>\n",
       "      <th>Nov-18</th>\n",
       "      <td>1551486</td>\n",
       "      <td>621101</td>\n",
       "      <td>387871</td>\n",
       "      <td>1524624</td>\n",
       "      <td>635260</td>\n",
       "      <td>366208</td>\n",
       "      <td>1440957</td>\n",
       "      <td>600398</td>\n",
       "      <td>374943</td>\n",
       "      <td>1417422</td>\n",
       "      <td>590592</td>\n",
       "      <td>368819</td>\n",
       "      <td>1451913</td>\n",
       "      <td>604963</td>\n",
       "      <td>362978</td>\n",
       "    </tr>\n",
       "    <tr>\n",
       "      <th>Dec-18</th>\n",
       "      <td>1446801</td>\n",
       "      <td>579193</td>\n",
       "      <td>347515</td>\n",
       "      <td>1419772</td>\n",
       "      <td>591571</td>\n",
       "      <td>341023</td>\n",
       "      <td>1343743</td>\n",
       "      <td>559893</td>\n",
       "      <td>335935</td>\n",
       "      <td>1383670</td>\n",
       "      <td>576529</td>\n",
       "      <td>345917</td>\n",
       "      <td>1360520</td>\n",
       "      <td>566883</td>\n",
       "      <td>340130</td>\n",
       "    </tr>\n",
       "    <tr>\n",
       "      <th>Jan-19</th>\n",
       "      <td>1581146</td>\n",
       "      <td>632975</td>\n",
       "      <td>379785</td>\n",
       "      <td>1499626</td>\n",
       "      <td>650348</td>\n",
       "      <td>374906</td>\n",
       "      <td>1534569</td>\n",
       "      <td>639403</td>\n",
       "      <td>383642</td>\n",
       "      <td>1518435</td>\n",
       "      <td>607870</td>\n",
       "      <td>364722</td>\n",
       "      <td>1434785</td>\n",
       "      <td>597827</td>\n",
       "      <td>358696</td>\n",
       "    </tr>\n",
       "    <tr>\n",
       "      <th>Feb-19</th>\n",
       "      <td>1503795</td>\n",
       "      <td>626581</td>\n",
       "      <td>375948</td>\n",
       "      <td>1537661</td>\n",
       "      <td>615567</td>\n",
       "      <td>384415</td>\n",
       "      <td>1460434</td>\n",
       "      <td>608514</td>\n",
       "      <td>365108</td>\n",
       "      <td>1432313</td>\n",
       "      <td>596797</td>\n",
       "      <td>372693</td>\n",
       "      <td>1416053</td>\n",
       "      <td>614105</td>\n",
       "      <td>368463</td>\n",
       "    </tr>\n",
       "    <tr>\n",
       "      <th>Mar-19</th>\n",
       "      <td>1519140</td>\n",
       "      <td>608152</td>\n",
       "      <td>379785</td>\n",
       "      <td>1444534</td>\n",
       "      <td>626456</td>\n",
       "      <td>375873</td>\n",
       "      <td>1474888</td>\n",
       "      <td>590437</td>\n",
       "      <td>354262</td>\n",
       "      <td>1453373</td>\n",
       "      <td>581824</td>\n",
       "      <td>349094</td>\n",
       "      <td>1375864</td>\n",
       "      <td>596676</td>\n",
       "      <td>343966</td>\n",
       "    </tr>\n",
       "    <tr>\n",
       "      <th>Apr-19</th>\n",
       "      <td>1488760</td>\n",
       "      <td>620316</td>\n",
       "      <td>387381</td>\n",
       "      <td>1524090</td>\n",
       "      <td>635037</td>\n",
       "      <td>381022</td>\n",
       "      <td>1442209</td>\n",
       "      <td>600920</td>\n",
       "      <td>360552</td>\n",
       "      <td>1414702</td>\n",
       "      <td>613518</td>\n",
       "      <td>368111</td>\n",
       "      <td>1448080</td>\n",
       "      <td>603366</td>\n",
       "      <td>362020</td>\n",
       "    </tr>\n",
       "    <tr>\n",
       "      <th>May-19</th>\n",
       "      <td>1596480</td>\n",
       "      <td>665200</td>\n",
       "      <td>383468</td>\n",
       "      <td>1506271</td>\n",
       "      <td>627613</td>\n",
       "      <td>391937</td>\n",
       "      <td>1547080</td>\n",
       "      <td>619337</td>\n",
       "      <td>386770</td>\n",
       "      <td>1470550</td>\n",
       "      <td>637738</td>\n",
       "      <td>367637</td>\n",
       "      <td>1500448</td>\n",
       "      <td>625187</td>\n",
       "      <td>360401</td>\n",
       "    </tr>\n",
       "    <tr>\n",
       "      <th>Jun-19</th>\n",
       "      <td>1488759</td>\n",
       "      <td>620316</td>\n",
       "      <td>357594</td>\n",
       "      <td>1410073</td>\n",
       "      <td>587530</td>\n",
       "      <td>352518</td>\n",
       "      <td>1446819</td>\n",
       "      <td>579200</td>\n",
       "      <td>347520</td>\n",
       "      <td>1371090</td>\n",
       "      <td>571287</td>\n",
       "      <td>342772</td>\n",
       "      <td>1407434</td>\n",
       "      <td>563433</td>\n",
       "      <td>351858</td>\n",
       "    </tr>\n",
       "    <tr>\n",
       "      <th>Jul-19</th>\n",
       "      <td>1458378</td>\n",
       "      <td>583828</td>\n",
       "      <td>364594</td>\n",
       "      <td>1379296</td>\n",
       "      <td>598164</td>\n",
       "      <td>344824</td>\n",
       "      <td>1416344</td>\n",
       "      <td>567000</td>\n",
       "      <td>340200</td>\n",
       "      <td>1336287</td>\n",
       "      <td>556786</td>\n",
       "      <td>347707</td>\n",
       "      <td>1366136</td>\n",
       "      <td>546901</td>\n",
       "      <td>341534</td>\n",
       "    </tr>\n",
       "    <tr>\n",
       "      <th>Aug-19</th>\n",
       "      <td>1502572</td>\n",
       "      <td>601520</td>\n",
       "      <td>360912</td>\n",
       "      <td>1422314</td>\n",
       "      <td>616820</td>\n",
       "      <td>355578</td>\n",
       "      <td>1462348</td>\n",
       "      <td>585417</td>\n",
       "      <td>351250</td>\n",
       "      <td>1386752</td>\n",
       "      <td>601397</td>\n",
       "      <td>360838</td>\n",
       "      <td>1416674</td>\n",
       "      <td>590281</td>\n",
       "      <td>340279</td>\n",
       "    </tr>\n",
       "    <tr>\n",
       "      <th>Sep-19</th>\n",
       "      <td>1458379</td>\n",
       "      <td>607658</td>\n",
       "      <td>379476</td>\n",
       "      <td>1431260</td>\n",
       "      <td>620699</td>\n",
       "      <td>372419</td>\n",
       "      <td>1472377</td>\n",
       "      <td>589432</td>\n",
       "      <td>353659</td>\n",
       "      <td>1397616</td>\n",
       "      <td>606109</td>\n",
       "      <td>363665</td>\n",
       "      <td>1383228</td>\n",
       "      <td>599869</td>\n",
       "      <td>345807</td>\n",
       "    </tr>\n",
       "  </tbody>\n",
       "</table>\n",
       "</div>"
      ],
      "text/plain": [
       "               HM-NE   CF-NE   FF-NE    HM-SW   CF-SW   FF-SW    HM-NW  \\\n",
       "Month, Year                                                              \n",
       "Jan-16       1140955  494802  285238  1124565  468568  281141  1111618   \n",
       "Feb-16       1175529  489804  293882  1200559  480616  288369  1188037   \n",
       "Mar-16       1235995  494802  296881  1220454  508522  293148  1151657   \n",
       "Apr-16       1186592  514593  296648  1213616  485843  291505  1149180   \n",
       "May-16       1272450  530187  305637  1249686  520702  312421  1187579   \n",
       "Jun-16       1235025  535597  321358  1213908  505795  303477  1239785   \n",
       "Jul-16       1284426  535177  321106  1269486  508209  317371  1202069   \n",
       "Aug-16       1323348  551395  330837  1358134  565889  326218  1283993   \n",
       "Sep-16       1284426  535177  334213  1268860  528691  330162  1295077   \n",
       "Oct-16       1280303  555233  333140  1315120  526477  328780  1301675   \n",
       "Nov-16       1319100  572058  343235  1348519  561883  337129  1276693   \n",
       "Dec-16       1280303  533459  320075  1306490  523023  313813  1287225   \n",
       "Jan-17       1381012  575421  345253  1356550  565229  339137  1341018   \n",
       "Feb-17       1480936  617056  355715  1451591  604829  362897  1428344   \n",
       "Mar-17       1381012  598908  359344  1358087  588966  353379  1393347   \n",
       "Apr-17       1429463  572252  357365  1411049  564881  352762  1329007   \n",
       "May-17       1472779  589593  353755  1395077  581282  363004  1367489   \n",
       "Jun-17       1487808  619920  357365  1471677  589151  353491  1442457   \n",
       "Jul-17       1419956  615797  354989  1391670  603530  362118  1367838   \n",
       "Aug-17       1522698  634457  380674  1560316  650131  374781  1536702   \n",
       "Sep-17       1538236  615797  369478  1462819  634386  365704  1433985   \n",
       "Oct-17       1466507  611044  366626  1448688  603620  376954  1478973   \n",
       "Nov-17       1572618  655257  393154  1542173  617373  385543  1519708   \n",
       "Dec-17       1588665  661944  397166  1570750  628813  392687  1492847   \n",
       "Jan-18       1574815  656173  409773  1607493  643522  386113  1586799   \n",
       "Feb-18       1688763  703651  422190  1597750  665729  399437  1640630   \n",
       "Mar-18       1574816  656173  378264  1551672  621175  387918  1532001   \n",
       "Apr-18       1623266  676361  422380  1605619  669008  401404  1574000   \n",
       "May-18       1672456  725300  435180  1709237  684253  410552  1622550   \n",
       "Jun-18       1559609  676361  405816  1534783  665594  399356  1569245   \n",
       "Jul-18       1671717  669233  401540  1587310  688374  413024  1566687   \n",
       "Aug-18       1654831  717656  413707  1625106  704765  406276  1662321   \n",
       "Sep-18       1606160  696549  417929  1642152  657397  410538  1618403   \n",
       "Oct-18       1380063  579193  361700  1351220  594662  342805  1351293   \n",
       "Nov-18       1551486  621101  387871  1524624  635260  366208  1440957   \n",
       "Dec-18       1446801  579193  347515  1419772  591571  341023  1343743   \n",
       "Jan-19       1581146  632975  379785  1499626  650348  374906  1534569   \n",
       "Feb-19       1503795  626581  375948  1537661  615567  384415  1460434   \n",
       "Mar-19       1519140  608152  379785  1444534  626456  375873  1474888   \n",
       "Apr-19       1488760  620316  387381  1524090  635037  381022  1442209   \n",
       "May-19       1596480  665200  383468  1506271  627613  391937  1547080   \n",
       "Jun-19       1488759  620316  357594  1410073  587530  352518  1446819   \n",
       "Jul-19       1458378  583828  364594  1379296  598164  344824  1416344   \n",
       "Aug-19       1502572  601520  360912  1422314  616820  355578  1462348   \n",
       "Sep-19       1458379  607658  379476  1431260  620699  372419  1472377   \n",
       "\n",
       "              CF-NW   FF-NW    HM-SE   CF-SE   FF-SE     HM-C    CF-C    FF-C  \n",
       "Month, Year                                                                    \n",
       "Jan-16       482079  277904  1095034  456264  273758  1126476  450958  281619  \n",
       "Feb-16       475603  297009  1167009  486254  280311  1109076  462115  288586  \n",
       "Mar-16       499443  287914  1133899  472458  295045  1167894  486622  280523  \n",
       "Apr-16       498369  299021  1133767  491684  283441  1116560  465233  290533  \n",
       "May-16       494824  296894  1215080  506283  291857  1155612  481505  300695  \n",
       "Jun-16       496319  297791  1217717  487485  292491  1149673  479030  299149  \n",
       "Jul-16       500862  312783  1186438  494349  296609  1220954  508730  305238  \n",
       "Aug-16       534997  320998  1319163  528096  316857  1252825  543317  325990  \n",
       "Sep-16       518454  311072  1279199  532999  319799  1255322  502539  313830  \n",
       "Oct-16       521095  312657  1233342  534868  320920  1213425  526230  315738  \n",
       "Nov-16       553667  332200  1257908  545521  327313  1288024  515630  322006  \n",
       "Dec-16       515310  309186  1266216  527590  316554  1199842  499934  299960  \n",
       "Jan-17       558757  348938  1316604  570976  329151  1290590  537745  335816  \n",
       "Feb-17       571804  357086  1405780  562771  337662  1386331  554985  346582  \n",
       "Mar-17       557794  348336  1378270  574279  331055  1307257  566922  340153  \n",
       "Apr-17       576355  332251  1358906  544006  339726  1335282  556367  333820  \n",
       "May-17       593043  341872  1347357  561398  350587  1381392  553008  345348  \n",
       "Jun-17       601024  346472  1420841  568801  341280  1344775  583193  349916  \n",
       "Jul-17       593195  341959  1343314  582559  349535  1318052  549188  342962  \n",
       "Aug-17       640292  384175  1447084  627562  376537  1431076  620620  372372  \n",
       "Sep-17       597493  373128  1467806  611586  352561  1450080  604200  348303  \n",
       "Oct-17       592072  355243  1401670  607867  350417  1374453  572688  357638  \n",
       "Nov-17       633211  365028  1439282  599701  374507  1475555  590704  368888  \n",
       "Dec-17       647408  388445  1537545  615520  384386  1517969  632487  379492  \n",
       "Jan-18       661166  381143  1570926  628883  377330  1547730  644887  371758  \n",
       "Feb-18       656788  410157  1545259  670138  402082  1517826  632427  394944  \n",
       "Mar-18       638333  383000  1509031  628762  362463  1486792  595202  371698  \n",
       "Apr-18       655833  409561  1611615  645172  402903  1532852  638688  383213  \n",
       "May-18       676062  405637  1601156  667148  400289  1580994  685635  411381  \n",
       "Jun-18       653852  392311  1491366  621402  372841  1474712  639543  383726  \n",
       "Jul-18       679430  391671  1603342  641861  385116  1583461  659775  395865  \n",
       "Aug-18       692634  399283  1574144  682664  409598  1543848  669525  385962  \n",
       "Sep-18       647890  404600  1536130  666178  384032  1520076  659216  380019  \n",
       "Oct-18       586020  351612  1334204  555918  333551  1364454  546227  341113  \n",
       "Nov-18       600398  374943  1417422  590592  368819  1451913  604963  362978  \n",
       "Dec-18       559893  335935  1383670  576529  345917  1360520  566883  340130  \n",
       "Jan-19       639403  383642  1518435  607870  364722  1434785  597827  358696  \n",
       "Feb-19       608514  365108  1432313  596797  372693  1416053  614105  368463  \n",
       "Mar-19       590437  354262  1453373  581824  349094  1375864  596676  343966  \n",
       "Apr-19       600920  360552  1414702  613518  368111  1448080  603366  362020  \n",
       "May-19       619337  386770  1470550  637738  367637  1500448  625187  360401  \n",
       "Jun-19       579200  347520  1371090  571287  342772  1407434  563433  351858  \n",
       "Jul-19       567000  340200  1336287  556786  347707  1366136  546901  341534  \n",
       "Aug-19       585417  351250  1386752  601397  360838  1416674  590281  340279  \n",
       "Sep-19       589432  353659  1397616  606109  363665  1383228  599869  345807  "
      ]
     },
     "execution_count": 230,
     "metadata": {},
     "output_type": "execute_result"
    }
   ],
   "source": [
    "monthly_sales"
   ]
  },
  {
   "cell_type": "code",
   "execution_count": 173,
   "metadata": {},
   "outputs": [
    {
     "data": {
      "text/html": [
       "<div>\n",
       "<style scoped>\n",
       "    .dataframe tbody tr th:only-of-type {\n",
       "        vertical-align: middle;\n",
       "    }\n",
       "\n",
       "    .dataframe tbody tr th {\n",
       "        vertical-align: top;\n",
       "    }\n",
       "\n",
       "    .dataframe thead th {\n",
       "        text-align: right;\n",
       "    }\n",
       "</style>\n",
       "<table border=\"1\" class=\"dataframe\">\n",
       "  <thead>\n",
       "    <tr style=\"text-align: right;\">\n",
       "      <th></th>\n",
       "      <th>HM-NE</th>\n",
       "      <th>CF-NE</th>\n",
       "      <th>FF-NE</th>\n",
       "      <th>HM-SW</th>\n",
       "      <th>CF-SW</th>\n",
       "      <th>FF-SW</th>\n",
       "      <th>HM-NW</th>\n",
       "      <th>CF-NW</th>\n",
       "      <th>FF-NW</th>\n",
       "      <th>HM-SE</th>\n",
       "      <th>CF-SE</th>\n",
       "      <th>FF-SE</th>\n",
       "      <th>HM-C</th>\n",
       "      <th>CF-C</th>\n",
       "      <th>FF-C</th>\n",
       "    </tr>\n",
       "    <tr>\n",
       "      <th>Month, Year</th>\n",
       "      <th></th>\n",
       "      <th></th>\n",
       "      <th></th>\n",
       "      <th></th>\n",
       "      <th></th>\n",
       "      <th></th>\n",
       "      <th></th>\n",
       "      <th></th>\n",
       "      <th></th>\n",
       "      <th></th>\n",
       "      <th></th>\n",
       "      <th></th>\n",
       "      <th></th>\n",
       "      <th></th>\n",
       "      <th></th>\n",
       "    </tr>\n",
       "  </thead>\n",
       "  <tbody>\n",
       "    <tr>\n",
       "      <th>Jan-16</th>\n",
       "      <td>1140955</td>\n",
       "      <td>494802</td>\n",
       "      <td>285238</td>\n",
       "      <td>1124565</td>\n",
       "      <td>468568</td>\n",
       "      <td>281141</td>\n",
       "      <td>1111618</td>\n",
       "      <td>482079</td>\n",
       "      <td>277904</td>\n",
       "      <td>1095034</td>\n",
       "      <td>456264</td>\n",
       "      <td>273758</td>\n",
       "      <td>1126476</td>\n",
       "      <td>450958</td>\n",
       "      <td>281619</td>\n",
       "    </tr>\n",
       "    <tr>\n",
       "      <th>Feb-16</th>\n",
       "      <td>1175529</td>\n",
       "      <td>489804</td>\n",
       "      <td>293882</td>\n",
       "      <td>1200559</td>\n",
       "      <td>480616</td>\n",
       "      <td>288369</td>\n",
       "      <td>1188037</td>\n",
       "      <td>475603</td>\n",
       "      <td>297009</td>\n",
       "      <td>1167009</td>\n",
       "      <td>486254</td>\n",
       "      <td>280311</td>\n",
       "      <td>1109076</td>\n",
       "      <td>462115</td>\n",
       "      <td>288586</td>\n",
       "    </tr>\n",
       "    <tr>\n",
       "      <th>Mar-16</th>\n",
       "      <td>1235995</td>\n",
       "      <td>494802</td>\n",
       "      <td>296881</td>\n",
       "      <td>1220454</td>\n",
       "      <td>508522</td>\n",
       "      <td>293148</td>\n",
       "      <td>1151657</td>\n",
       "      <td>499443</td>\n",
       "      <td>287914</td>\n",
       "      <td>1133899</td>\n",
       "      <td>472458</td>\n",
       "      <td>295045</td>\n",
       "      <td>1167894</td>\n",
       "      <td>486622</td>\n",
       "      <td>280523</td>\n",
       "    </tr>\n",
       "    <tr>\n",
       "      <th>Apr-16</th>\n",
       "      <td>1186592</td>\n",
       "      <td>514593</td>\n",
       "      <td>296648</td>\n",
       "      <td>1213616</td>\n",
       "      <td>485843</td>\n",
       "      <td>291505</td>\n",
       "      <td>1149180</td>\n",
       "      <td>498369</td>\n",
       "      <td>299021</td>\n",
       "      <td>1133767</td>\n",
       "      <td>491684</td>\n",
       "      <td>283441</td>\n",
       "      <td>1116560</td>\n",
       "      <td>465233</td>\n",
       "      <td>290533</td>\n",
       "    </tr>\n",
       "    <tr>\n",
       "      <th>May-16</th>\n",
       "      <td>1272450</td>\n",
       "      <td>530187</td>\n",
       "      <td>305637</td>\n",
       "      <td>1249686</td>\n",
       "      <td>520702</td>\n",
       "      <td>312421</td>\n",
       "      <td>1187579</td>\n",
       "      <td>494824</td>\n",
       "      <td>296894</td>\n",
       "      <td>1215080</td>\n",
       "      <td>506283</td>\n",
       "      <td>291857</td>\n",
       "      <td>1155612</td>\n",
       "      <td>481505</td>\n",
       "      <td>300695</td>\n",
       "    </tr>\n",
       "  </tbody>\n",
       "</table>\n",
       "</div>"
      ],
      "text/plain": [
       "               HM-NE   CF-NE   FF-NE    HM-SW   CF-SW   FF-SW    HM-NW  \\\n",
       "Month, Year                                                              \n",
       "Jan-16       1140955  494802  285238  1124565  468568  281141  1111618   \n",
       "Feb-16       1175529  489804  293882  1200559  480616  288369  1188037   \n",
       "Mar-16       1235995  494802  296881  1220454  508522  293148  1151657   \n",
       "Apr-16       1186592  514593  296648  1213616  485843  291505  1149180   \n",
       "May-16       1272450  530187  305637  1249686  520702  312421  1187579   \n",
       "\n",
       "              CF-NW   FF-NW    HM-SE   CF-SE   FF-SE     HM-C    CF-C    FF-C  \n",
       "Month, Year                                                                    \n",
       "Jan-16       482079  277904  1095034  456264  273758  1126476  450958  281619  \n",
       "Feb-16       475603  297009  1167009  486254  280311  1109076  462115  288586  \n",
       "Mar-16       499443  287914  1133899  472458  295045  1167894  486622  280523  \n",
       "Apr-16       498369  299021  1133767  491684  283441  1116560  465233  290533  \n",
       "May-16       494824  296894  1215080  506283  291857  1155612  481505  300695  "
      ]
     },
     "execution_count": 173,
     "metadata": {},
     "output_type": "execute_result"
    }
   ],
   "source": [
    "monthly_sales = monthly_sales.set_index(['Month, Year'])\n",
    "monthly_sales.head()"
   ]
  },
  {
   "cell_type": "code",
   "execution_count": 184,
   "metadata": {},
   "outputs": [],
   "source": [
    "place_kind_sum_up = monthly_sales.sum(axis = 0)"
   ]
  },
  {
   "cell_type": "code",
   "execution_count": 185,
   "metadata": {},
   "outputs": [
    {
     "data": {
      "text/plain": [
       "HM-NE    65362334\n",
       "CF-NE    27233220\n",
       "FF-NE    16345942\n",
       "HM-SW    64421707\n",
       "CF-SW    26815953\n",
       "FF-SW    16104137\n",
       "HM-NW    63572000\n",
       "CF-NW    26341429\n",
       "FF-NW    15821178\n",
       "HM-SE    62328614\n",
       "CF-SE    26039450\n",
       "FF-SE    15614539\n",
       "HM-C     61582375\n",
       "CF-C     25724566\n",
       "FF-C     15540968\n",
       "dtype: int64"
      ]
     },
     "execution_count": 185,
     "metadata": {},
     "output_type": "execute_result"
    }
   ],
   "source": [
    "place_kind_sum_up"
   ]
  },
  {
   "cell_type": "code",
   "execution_count": 187,
   "metadata": {},
   "outputs": [],
   "source": [
    "place_kind_sum_up_df = pd.DataFrame(place_kind_sum_up.values.reshape(5,3),columns=['HM','CF','FF'],index = ['NE','SW','NW','SE','C'])"
   ]
  },
  {
   "cell_type": "code",
   "execution_count": 188,
   "metadata": {},
   "outputs": [
    {
     "data": {
      "text/html": [
       "<div>\n",
       "<style scoped>\n",
       "    .dataframe tbody tr th:only-of-type {\n",
       "        vertical-align: middle;\n",
       "    }\n",
       "\n",
       "    .dataframe tbody tr th {\n",
       "        vertical-align: top;\n",
       "    }\n",
       "\n",
       "    .dataframe thead th {\n",
       "        text-align: right;\n",
       "    }\n",
       "</style>\n",
       "<table border=\"1\" class=\"dataframe\">\n",
       "  <thead>\n",
       "    <tr style=\"text-align: right;\">\n",
       "      <th></th>\n",
       "      <th>HM</th>\n",
       "      <th>CF</th>\n",
       "      <th>FF</th>\n",
       "    </tr>\n",
       "  </thead>\n",
       "  <tbody>\n",
       "    <tr>\n",
       "      <th>NE</th>\n",
       "      <td>65362334</td>\n",
       "      <td>27233220</td>\n",
       "      <td>16345942</td>\n",
       "    </tr>\n",
       "    <tr>\n",
       "      <th>SW</th>\n",
       "      <td>64421707</td>\n",
       "      <td>26815953</td>\n",
       "      <td>16104137</td>\n",
       "    </tr>\n",
       "    <tr>\n",
       "      <th>NW</th>\n",
       "      <td>63572000</td>\n",
       "      <td>26341429</td>\n",
       "      <td>15821178</td>\n",
       "    </tr>\n",
       "    <tr>\n",
       "      <th>SE</th>\n",
       "      <td>62328614</td>\n",
       "      <td>26039450</td>\n",
       "      <td>15614539</td>\n",
       "    </tr>\n",
       "    <tr>\n",
       "      <th>C</th>\n",
       "      <td>61582375</td>\n",
       "      <td>25724566</td>\n",
       "      <td>15540968</td>\n",
       "    </tr>\n",
       "  </tbody>\n",
       "</table>\n",
       "</div>"
      ],
      "text/plain": [
       "          HM        CF        FF\n",
       "NE  65362334  27233220  16345942\n",
       "SW  64421707  26815953  16104137\n",
       "NW  63572000  26341429  15821178\n",
       "SE  62328614  26039450  15614539\n",
       "C   61582375  25724566  15540968"
      ]
     },
     "execution_count": 188,
     "metadata": {},
     "output_type": "execute_result"
    }
   ],
   "source": [
    "place_kind_sum_up_df"
   ]
  },
  {
   "cell_type": "code",
   "execution_count": 221,
   "metadata": {},
   "outputs": [
    {
     "data": {
      "text/html": [
       "<div>\n",
       "<style scoped>\n",
       "    .dataframe tbody tr th:only-of-type {\n",
       "        vertical-align: middle;\n",
       "    }\n",
       "\n",
       "    .dataframe tbody tr th {\n",
       "        vertical-align: top;\n",
       "    }\n",
       "\n",
       "    .dataframe thead th {\n",
       "        text-align: right;\n",
       "    }\n",
       "</style>\n",
       "<table border=\"1\" class=\"dataframe\">\n",
       "  <thead>\n",
       "    <tr style=\"text-align: right;\">\n",
       "      <th></th>\n",
       "      <th>HM</th>\n",
       "      <th>CF</th>\n",
       "      <th>FF</th>\n",
       "    </tr>\n",
       "  </thead>\n",
       "  <tbody>\n",
       "    <tr>\n",
       "      <th>NE</th>\n",
       "      <td>65362334</td>\n",
       "      <td>27233220</td>\n",
       "      <td>16345942</td>\n",
       "    </tr>\n",
       "    <tr>\n",
       "      <th>SW</th>\n",
       "      <td>64421707</td>\n",
       "      <td>26815953</td>\n",
       "      <td>16104137</td>\n",
       "    </tr>\n",
       "    <tr>\n",
       "      <th>NW</th>\n",
       "      <td>63572000</td>\n",
       "      <td>26341429</td>\n",
       "      <td>15821178</td>\n",
       "    </tr>\n",
       "    <tr>\n",
       "      <th>SE</th>\n",
       "      <td>62328614</td>\n",
       "      <td>26039450</td>\n",
       "      <td>15614539</td>\n",
       "    </tr>\n",
       "    <tr>\n",
       "      <th>C</th>\n",
       "      <td>61582375</td>\n",
       "      <td>25724566</td>\n",
       "      <td>15540968</td>\n",
       "    </tr>\n",
       "  </tbody>\n",
       "</table>\n",
       "</div>"
      ],
      "text/plain": [
       "          HM        CF        FF\n",
       "NE  65362334  27233220  16345942\n",
       "SW  64421707  26815953  16104137\n",
       "NW  63572000  26341429  15821178\n",
       "SE  62328614  26039450  15614539\n",
       "C   61582375  25724566  15540968"
      ]
     },
     "execution_count": 221,
     "metadata": {},
     "output_type": "execute_result"
    }
   ],
   "source": [
    "place_kind_sum_up_df"
   ]
  },
  {
   "cell_type": "code",
   "execution_count": 225,
   "metadata": {},
   "outputs": [],
   "source": [
    "place_kind_sum_up_df = place_kind_sum_up_df.rename(columns={\"HM\":\"Hamburger\", \"CF\":\"Chicken Fillet\", \"FF\":\"Fish Fillet\"}, index = {\n",
    "    \"NE\":\"North East\", \"NW\":\"North West\", \"SE\":\"South East\", \"SW\":\"South West\", \"C\":\"Central\"\n",
    "})"
   ]
  },
  {
   "cell_type": "code",
   "execution_count": 227,
   "metadata": {},
   "outputs": [],
   "source": [
    "place_kind_sum_up_df.to_csv(\"place_kind_sum_up_df.csv\")"
   ]
  },
  {
   "cell_type": "code",
   "execution_count": 226,
   "metadata": {
    "scrolled": true
   },
   "outputs": [
    {
     "data": {
      "text/plain": [
       "<matplotlib.axes._subplots.AxesSubplot at 0x125300630>"
      ]
     },
     "execution_count": 226,
     "metadata": {},
     "output_type": "execute_result"
    },
    {
     "data": {
      "image/png": "[encoded data removed]",
      "text/plain": [
       "<Figure size 432x288 with 1 Axes>"
      ]
     },
     "metadata": {
      "needs_background": "light"
     },
     "output_type": "display_data"
    }
   ],
   "source": [
    "place_kind_sum_up_df.plot.bar(stacked = True)"
   ]
  },
  {
   "cell_type": "code",
   "execution_count": 191,
   "metadata": {},
   "outputs": [],
   "source": [
    "HM_all_places_sales = monthly_sales.iloc[:,[True, False, False]*5].sum(axis = 1)\n",
    "CF_all_places_sales = monthly_sales.iloc[:,[False, True, False]*5].sum(axis = 1)\n",
    "FF_all_places_sales = monthly_sales.iloc[:,[False, False, True]*5].sum(axis = 1)"
   ]
  },
  {
   "cell_type": "code",
   "execution_count": 193,
   "metadata": {},
   "outputs": [],
   "source": [
    "burger_sales = pd.DataFrame()\n",
    "burger_sales['HM'] = HM_all_places_sales\n",
    "burger_sales['CF'] = CF_all_places_sales\n",
    "burger_sales['FF'] = FF_all_places_sales"
   ]
  },
  {
   "cell_type": "code",
   "execution_count": 197,
   "metadata": {},
   "outputs": [
    {
     "data": {
      "text/html": [
       "<div>\n",
       "<style scoped>\n",
       "    .dataframe tbody tr th:only-of-type {\n",
       "        vertical-align: middle;\n",
       "    }\n",
       "\n",
       "    .dataframe tbody tr th {\n",
       "        vertical-align: top;\n",
       "    }\n",
       "\n",
       "    .dataframe thead th {\n",
       "        text-align: right;\n",
       "    }\n",
       "</style>\n",
       "<table border=\"1\" class=\"dataframe\">\n",
       "  <thead>\n",
       "    <tr style=\"text-align: right;\">\n",
       "      <th></th>\n",
       "      <th>HM</th>\n",
       "      <th>CF</th>\n",
       "      <th>FF</th>\n",
       "    </tr>\n",
       "    <tr>\n",
       "      <th>Month, Year</th>\n",
       "      <th></th>\n",
       "      <th></th>\n",
       "      <th></th>\n",
       "    </tr>\n",
       "  </thead>\n",
       "  <tbody>\n",
       "    <tr>\n",
       "      <th>Jan-16</th>\n",
       "      <td>5598648</td>\n",
       "      <td>2352671</td>\n",
       "      <td>1399660</td>\n",
       "    </tr>\n",
       "    <tr>\n",
       "      <th>Feb-16</th>\n",
       "      <td>5840210</td>\n",
       "      <td>2394392</td>\n",
       "      <td>1448157</td>\n",
       "    </tr>\n",
       "    <tr>\n",
       "      <th>Mar-16</th>\n",
       "      <td>5909899</td>\n",
       "      <td>2461847</td>\n",
       "      <td>1453511</td>\n",
       "    </tr>\n",
       "    <tr>\n",
       "      <th>Apr-16</th>\n",
       "      <td>5799715</td>\n",
       "      <td>2455722</td>\n",
       "      <td>1461148</td>\n",
       "    </tr>\n",
       "    <tr>\n",
       "      <th>May-16</th>\n",
       "      <td>6080407</td>\n",
       "      <td>2533501</td>\n",
       "      <td>1507504</td>\n",
       "    </tr>\n",
       "  </tbody>\n",
       "</table>\n",
       "</div>"
      ],
      "text/plain": [
       "                  HM       CF       FF\n",
       "Month, Year                           \n",
       "Jan-16       5598648  2352671  1399660\n",
       "Feb-16       5840210  2394392  1448157\n",
       "Mar-16       5909899  2461847  1453511\n",
       "Apr-16       5799715  2455722  1461148\n",
       "May-16       6080407  2533501  1507504"
      ]
     },
     "execution_count": 197,
     "metadata": {},
     "output_type": "execute_result"
    }
   ],
   "source": [
    "burger_sales.head()"
   ]
  },
  {
   "cell_type": "code",
   "execution_count": 246,
   "metadata": {},
   "outputs": [],
   "source": [
    "burger_sales = burger_sales.reset_index()\n",
    "\n",
    "burger_sales['Month, Year'] = burger_sales['Month, Year'].apply(lambda x: x[:4]+'20'+x[4:])\n",
    "\n",
    "burger_sales = burger_sales.set_index('Month, Year')"
   ]
  },
  {
   "cell_type": "code",
   "execution_count": 251,
   "metadata": {},
   "outputs": [
    {
     "data": {
      "text/html": [
       "<div>\n",
       "<style scoped>\n",
       "    .dataframe tbody tr th:only-of-type {\n",
       "        vertical-align: middle;\n",
       "    }\n",
       "\n",
       "    .dataframe tbody tr th {\n",
       "        vertical-align: top;\n",
       "    }\n",
       "\n",
       "    .dataframe thead th {\n",
       "        text-align: right;\n",
       "    }\n",
       "</style>\n",
       "<table border=\"1\" class=\"dataframe\">\n",
       "  <thead>\n",
       "    <tr style=\"text-align: right;\">\n",
       "      <th></th>\n",
       "      <th>Hamburger</th>\n",
       "      <th>Chicken Fillet</th>\n",
       "      <th>Fish Fillet</th>\n",
       "    </tr>\n",
       "    <tr>\n",
       "      <th>Month, Year</th>\n",
       "      <th></th>\n",
       "      <th></th>\n",
       "      <th></th>\n",
       "    </tr>\n",
       "  </thead>\n",
       "  <tbody>\n",
       "    <tr>\n",
       "      <th>Jan-2016</th>\n",
       "      <td>5598648</td>\n",
       "      <td>2352671</td>\n",
       "      <td>1399660</td>\n",
       "    </tr>\n",
       "    <tr>\n",
       "      <th>Feb-2016</th>\n",
       "      <td>5840210</td>\n",
       "      <td>2394392</td>\n",
       "      <td>1448157</td>\n",
       "    </tr>\n",
       "    <tr>\n",
       "      <th>Mar-2016</th>\n",
       "      <td>5909899</td>\n",
       "      <td>2461847</td>\n",
       "      <td>1453511</td>\n",
       "    </tr>\n",
       "    <tr>\n",
       "      <th>Apr-2016</th>\n",
       "      <td>5799715</td>\n",
       "      <td>2455722</td>\n",
       "      <td>1461148</td>\n",
       "    </tr>\n",
       "    <tr>\n",
       "      <th>May-2016</th>\n",
       "      <td>6080407</td>\n",
       "      <td>2533501</td>\n",
       "      <td>1507504</td>\n",
       "    </tr>\n",
       "  </tbody>\n",
       "</table>\n",
       "</div>"
      ],
      "text/plain": [
       "             Hamburger  Chicken Fillet  Fish Fillet\n",
       "Month, Year                                        \n",
       "Jan-2016       5598648         2352671      1399660\n",
       "Feb-2016       5840210         2394392      1448157\n",
       "Mar-2016       5909899         2461847      1453511\n",
       "Apr-2016       5799715         2455722      1461148\n",
       "May-2016       6080407         2533501      1507504"
      ]
     },
     "execution_count": 251,
     "metadata": {},
     "output_type": "execute_result"
    }
   ],
   "source": [
    "burger_sales.head()"
   ]
  },
  {
   "cell_type": "code",
   "execution_count": 231,
   "metadata": {},
   "outputs": [],
   "source": [
    "burger_sales = burger_sales.rename(columns={\"HM\":\"Hamburger\", \"CF\":\"Chicken Fillet\", \"FF\":\"Fish Fillet\"})"
   ]
  },
  {
   "cell_type": "code",
   "execution_count": 252,
   "metadata": {},
   "outputs": [],
   "source": [
    "burger_sales.to_csv(\"burger_sales.csv\")"
   ]
  },
  {
   "cell_type": "code",
   "execution_count": 253,
   "metadata": {},
   "outputs": [],
   "source": [
    "overall_burger_sales = burger_sales.sum(axis = 1)"
   ]
  },
  {
   "cell_type": "code",
   "execution_count": 255,
   "metadata": {},
   "outputs": [
    {
     "data": {
      "text/plain": [
       "<matplotlib.axes._subplots.AxesSubplot at 0x1259abe10>"
      ]
     },
     "execution_count": 255,
     "metadata": {},
     "output_type": "execute_result"
    },
    {
     "data": {
      "image/png": "[encoded data removed]",
      "text/plain": [
       "<Figure size 432x288 with 1 Axes>"
      ]
     },
     "metadata": {
      "needs_background": "light"
     },
     "output_type": "display_data"
    }
   ],
   "source": [
    "overall_burger_sales.plot()"
   ]
  },
  {
   "cell_type": "code",
   "execution_count": 264,
   "metadata": {},
   "outputs": [
    {
     "name": "stderr",
     "output_type": "stream",
     "text": [
      "/anaconda3/lib/python3.7/site-packages/ipykernel_launcher.py:1: FutureWarning: The signature of `Series.to_csv` was aligned to that of `DataFrame.to_csv`, and argument 'header' will change its default value from False to True: please pass an explicit value to suppress this warning.\n",
      "  \"\"\"Entry point for launching an IPython kernel.\n"
     ]
    }
   ],
   "source": [
    "overall_burger_sales.to_csv(\"overall_sales.csv\")"
   ]
  },
  {
   "cell_type": "code",
   "execution_count": 234,
   "metadata": {
    "scrolled": true
   },
   "outputs": [
    {
     "data": {
      "text/plain": [
       "<matplotlib.axes._subplots.AxesSubplot at 0x125839358>"
      ]
     },
     "execution_count": 234,
     "metadata": {},
     "output_type": "execute_result"
    },
    {
     "data": {
      "image/png": "[encoded data removed]",
      "text/plain": [
       "<Figure size 432x288 with 1 Axes>"
      ]
     },
     "metadata": {
      "needs_background": "light"
     },
     "output_type": "display_data"
    }
   ],
   "source": [
    "burger_sales.plot()"
   ]
  },
  {
   "cell_type": "code",
   "execution_count": 198,
   "metadata": {},
   "outputs": [
    {
     "data": {
      "text/plain": [
       "<matplotlib.axes._subplots.AxesSubplot at 0x123e88ac8>"
      ]
     },
     "execution_count": 198,
     "metadata": {},
     "output_type": "execute_result"
    },
    {
     "data": {
      "image/png": "[encoded data removed]",
      "text/plain": [
       "<Figure size 432x288 with 1 Axes>"
      ]
     },
     "metadata": {
      "needs_background": "light"
     },
     "output_type": "display_data"
    }
   ],
   "source": [
    "burger_sales['HM'].plot()"
   ]
  },
  {
   "cell_type": "code",
   "execution_count": 199,
   "metadata": {},
   "outputs": [
    {
     "data": {
      "text/plain": [
       "<matplotlib.axes._subplots.AxesSubplot at 0x123f21438>"
      ]
     },
     "execution_count": 199,
     "metadata": {},
     "output_type": "execute_result"
    },
    {
     "data": {
      "image/png": "[encoded data removed]",
      "text/plain": [
       "<Figure size 432x288 with 1 Axes>"
      ]
     },
     "metadata": {
      "needs_background": "light"
     },
     "output_type": "display_data"
    }
   ],
   "source": [
    "burger_sales['CF'].plot()"
   ]
  },
  {
   "cell_type": "code",
   "execution_count": 200,
   "metadata": {},
   "outputs": [
    {
     "data": {
      "text/plain": [
       "<matplotlib.axes._subplots.AxesSubplot at 0x1240800b8>"
      ]
     },
     "execution_count": 200,
     "metadata": {},
     "output_type": "execute_result"
    },
    {
     "data": {
      "image/png": "[encoded data removed]",
      "text/plain": [
       "<Figure size 432x288 with 1 Axes>"
      ]
     },
     "metadata": {
      "needs_background": "light"
     },
     "output_type": "display_data"
    }
   ],
   "source": [
    "burger_sales['FF'].plot()"
   ]
  },
  {
   "cell_type": "code",
   "execution_count": 202,
   "metadata": {},
   "outputs": [
    {
     "data": {
      "text/html": [
       "<div>\n",
       "<style scoped>\n",
       "    .dataframe tbody tr th:only-of-type {\n",
       "        vertical-align: middle;\n",
       "    }\n",
       "\n",
       "    .dataframe tbody tr th {\n",
       "        vertical-align: top;\n",
       "    }\n",
       "\n",
       "    .dataframe thead th {\n",
       "        text-align: right;\n",
       "    }\n",
       "</style>\n",
       "<table border=\"1\" class=\"dataframe\">\n",
       "  <thead>\n",
       "    <tr style=\"text-align: right;\">\n",
       "      <th></th>\n",
       "      <th>HM-NE</th>\n",
       "      <th>CF-NE</th>\n",
       "      <th>FF-NE</th>\n",
       "      <th>HM-SW</th>\n",
       "      <th>CF-SW</th>\n",
       "      <th>FF-SW</th>\n",
       "      <th>HM-NW</th>\n",
       "      <th>CF-NW</th>\n",
       "      <th>FF-NW</th>\n",
       "      <th>HM-SE</th>\n",
       "      <th>CF-SE</th>\n",
       "      <th>FF-SE</th>\n",
       "      <th>HM-C</th>\n",
       "      <th>CF-C</th>\n",
       "      <th>FF-C</th>\n",
       "    </tr>\n",
       "    <tr>\n",
       "      <th>Month, Year</th>\n",
       "      <th></th>\n",
       "      <th></th>\n",
       "      <th></th>\n",
       "      <th></th>\n",
       "      <th></th>\n",
       "      <th></th>\n",
       "      <th></th>\n",
       "      <th></th>\n",
       "      <th></th>\n",
       "      <th></th>\n",
       "      <th></th>\n",
       "      <th></th>\n",
       "      <th></th>\n",
       "      <th></th>\n",
       "      <th></th>\n",
       "    </tr>\n",
       "  </thead>\n",
       "  <tbody>\n",
       "    <tr>\n",
       "      <th>Jan-16</th>\n",
       "      <td>1140955</td>\n",
       "      <td>494802</td>\n",
       "      <td>285238</td>\n",
       "      <td>1124565</td>\n",
       "      <td>468568</td>\n",
       "      <td>281141</td>\n",
       "      <td>1111618</td>\n",
       "      <td>482079</td>\n",
       "      <td>277904</td>\n",
       "      <td>1095034</td>\n",
       "      <td>456264</td>\n",
       "      <td>273758</td>\n",
       "      <td>1126476</td>\n",
       "      <td>450958</td>\n",
       "      <td>281619</td>\n",
       "    </tr>\n",
       "    <tr>\n",
       "      <th>Feb-16</th>\n",
       "      <td>1175529</td>\n",
       "      <td>489804</td>\n",
       "      <td>293882</td>\n",
       "      <td>1200559</td>\n",
       "      <td>480616</td>\n",
       "      <td>288369</td>\n",
       "      <td>1188037</td>\n",
       "      <td>475603</td>\n",
       "      <td>297009</td>\n",
       "      <td>1167009</td>\n",
       "      <td>486254</td>\n",
       "      <td>280311</td>\n",
       "      <td>1109076</td>\n",
       "      <td>462115</td>\n",
       "      <td>288586</td>\n",
       "    </tr>\n",
       "    <tr>\n",
       "      <th>Mar-16</th>\n",
       "      <td>1235995</td>\n",
       "      <td>494802</td>\n",
       "      <td>296881</td>\n",
       "      <td>1220454</td>\n",
       "      <td>508522</td>\n",
       "      <td>293148</td>\n",
       "      <td>1151657</td>\n",
       "      <td>499443</td>\n",
       "      <td>287914</td>\n",
       "      <td>1133899</td>\n",
       "      <td>472458</td>\n",
       "      <td>295045</td>\n",
       "      <td>1167894</td>\n",
       "      <td>486622</td>\n",
       "      <td>280523</td>\n",
       "    </tr>\n",
       "    <tr>\n",
       "      <th>Apr-16</th>\n",
       "      <td>1186592</td>\n",
       "      <td>514593</td>\n",
       "      <td>296648</td>\n",
       "      <td>1213616</td>\n",
       "      <td>485843</td>\n",
       "      <td>291505</td>\n",
       "      <td>1149180</td>\n",
       "      <td>498369</td>\n",
       "      <td>299021</td>\n",
       "      <td>1133767</td>\n",
       "      <td>491684</td>\n",
       "      <td>283441</td>\n",
       "      <td>1116560</td>\n",
       "      <td>465233</td>\n",
       "      <td>290533</td>\n",
       "    </tr>\n",
       "    <tr>\n",
       "      <th>May-16</th>\n",
       "      <td>1272450</td>\n",
       "      <td>530187</td>\n",
       "      <td>305637</td>\n",
       "      <td>1249686</td>\n",
       "      <td>520702</td>\n",
       "      <td>312421</td>\n",
       "      <td>1187579</td>\n",
       "      <td>494824</td>\n",
       "      <td>296894</td>\n",
       "      <td>1215080</td>\n",
       "      <td>506283</td>\n",
       "      <td>291857</td>\n",
       "      <td>1155612</td>\n",
       "      <td>481505</td>\n",
       "      <td>300695</td>\n",
       "    </tr>\n",
       "  </tbody>\n",
       "</table>\n",
       "</div>"
      ],
      "text/plain": [
       "               HM-NE   CF-NE   FF-NE    HM-SW   CF-SW   FF-SW    HM-NW  \\\n",
       "Month, Year                                                              \n",
       "Jan-16       1140955  494802  285238  1124565  468568  281141  1111618   \n",
       "Feb-16       1175529  489804  293882  1200559  480616  288369  1188037   \n",
       "Mar-16       1235995  494802  296881  1220454  508522  293148  1151657   \n",
       "Apr-16       1186592  514593  296648  1213616  485843  291505  1149180   \n",
       "May-16       1272450  530187  305637  1249686  520702  312421  1187579   \n",
       "\n",
       "              CF-NW   FF-NW    HM-SE   CF-SE   FF-SE     HM-C    CF-C    FF-C  \n",
       "Month, Year                                                                    \n",
       "Jan-16       482079  277904  1095034  456264  273758  1126476  450958  281619  \n",
       "Feb-16       475603  297009  1167009  486254  280311  1109076  462115  288586  \n",
       "Mar-16       499443  287914  1133899  472458  295045  1167894  486622  280523  \n",
       "Apr-16       498369  299021  1133767  491684  283441  1116560  465233  290533  \n",
       "May-16       494824  296894  1215080  506283  291857  1155612  481505  300695  "
      ]
     },
     "execution_count": 202,
     "metadata": {},
     "output_type": "execute_result"
    }
   ],
   "source": [
    "monthly_sales.head()"
   ]
  },
  {
   "cell_type": "code",
   "execution_count": 207,
   "metadata": {},
   "outputs": [],
   "source": [
    "places = ['NE','NW','SE','SW','C']\n",
    "kinds = ['HM','CF','FF']\n",
    "place_sales = pd.DataFrame()\n",
    "for place in places:\n",
    "    place_sales[place] = monthly_sales.apply(lambda x: sum([x[kind+'-'+place] for kind in kinds]),axis=1)"
   ]
  },
  {
   "cell_type": "code",
   "execution_count": 209,
   "metadata": {},
   "outputs": [
    {
     "data": {
      "text/html": [
       "<div>\n",
       "<style scoped>\n",
       "    .dataframe tbody tr th:only-of-type {\n",
       "        vertical-align: middle;\n",
       "    }\n",
       "\n",
       "    .dataframe tbody tr th {\n",
       "        vertical-align: top;\n",
       "    }\n",
       "\n",
       "    .dataframe thead th {\n",
       "        text-align: right;\n",
       "    }\n",
       "</style>\n",
       "<table border=\"1\" class=\"dataframe\">\n",
       "  <thead>\n",
       "    <tr style=\"text-align: right;\">\n",
       "      <th></th>\n",
       "      <th>NE</th>\n",
       "      <th>NW</th>\n",
       "      <th>SE</th>\n",
       "      <th>SW</th>\n",
       "      <th>C</th>\n",
       "    </tr>\n",
       "    <tr>\n",
       "      <th>Month, Year</th>\n",
       "      <th></th>\n",
       "      <th></th>\n",
       "      <th></th>\n",
       "      <th></th>\n",
       "      <th></th>\n",
       "    </tr>\n",
       "  </thead>\n",
       "  <tbody>\n",
       "    <tr>\n",
       "      <th>Jan-16</th>\n",
       "      <td>1920995</td>\n",
       "      <td>1871601</td>\n",
       "      <td>1825056</td>\n",
       "      <td>1874274</td>\n",
       "      <td>1859053</td>\n",
       "    </tr>\n",
       "    <tr>\n",
       "      <th>Feb-16</th>\n",
       "      <td>1959215</td>\n",
       "      <td>1960649</td>\n",
       "      <td>1933574</td>\n",
       "      <td>1969544</td>\n",
       "      <td>1859777</td>\n",
       "    </tr>\n",
       "    <tr>\n",
       "      <th>Mar-16</th>\n",
       "      <td>2027678</td>\n",
       "      <td>1939014</td>\n",
       "      <td>1901402</td>\n",
       "      <td>2022124</td>\n",
       "      <td>1935039</td>\n",
       "    </tr>\n",
       "    <tr>\n",
       "      <th>Apr-16</th>\n",
       "      <td>1997833</td>\n",
       "      <td>1946570</td>\n",
       "      <td>1908892</td>\n",
       "      <td>1990964</td>\n",
       "      <td>1872326</td>\n",
       "    </tr>\n",
       "    <tr>\n",
       "      <th>May-16</th>\n",
       "      <td>2108274</td>\n",
       "      <td>1979297</td>\n",
       "      <td>2013220</td>\n",
       "      <td>2082809</td>\n",
       "      <td>1937812</td>\n",
       "    </tr>\n",
       "  </tbody>\n",
       "</table>\n",
       "</div>"
      ],
      "text/plain": [
       "                  NE       NW       SE       SW        C\n",
       "Month, Year                                             \n",
       "Jan-16       1920995  1871601  1825056  1874274  1859053\n",
       "Feb-16       1959215  1960649  1933574  1969544  1859777\n",
       "Mar-16       2027678  1939014  1901402  2022124  1935039\n",
       "Apr-16       1997833  1946570  1908892  1990964  1872326\n",
       "May-16       2108274  1979297  2013220  2082809  1937812"
      ]
     },
     "execution_count": 209,
     "metadata": {},
     "output_type": "execute_result"
    }
   ],
   "source": [
    "place_sales.head()"
   ]
  },
  {
   "cell_type": "code",
   "execution_count": 258,
   "metadata": {},
   "outputs": [],
   "source": [
    "place_sales = place_sales.reset_index()\n",
    "\n",
    "place_sales['Month, Year'] = place_sales['Month, Year'].apply(lambda x: x[:4]+'20'+x[4:])\n",
    "\n",
    "place_sales = place_sales.set_index('Month, Year')"
   ]
  },
  {
   "cell_type": "code",
   "execution_count": 259,
   "metadata": {},
   "outputs": [
    {
     "data": {
      "text/plain": [
       "<matplotlib.axes._subplots.AxesSubplot at 0x1258c7a90>"
      ]
     },
     "execution_count": 259,
     "metadata": {},
     "output_type": "execute_result"
    },
    {
     "data": {
      "image/png": "[encoded data removed]",
      "text/plain": [
       "<Figure size 432x288 with 1 Axes>"
      ]
     },
     "metadata": {
      "needs_background": "light"
     },
     "output_type": "display_data"
    }
   ],
   "source": [
    "place_sales.plot.line()"
   ]
  },
  {
   "cell_type": "code",
   "execution_count": 260,
   "metadata": {},
   "outputs": [],
   "source": [
    "overall_place_sales = place_sales.sum(axis = 1)"
   ]
  },
  {
   "cell_type": "code",
   "execution_count": 262,
   "metadata": {},
   "outputs": [
    {
     "name": "stderr",
     "output_type": "stream",
     "text": [
      "/anaconda3/lib/python3.7/site-packages/ipykernel_launcher.py:1: FutureWarning: The signature of `Series.to_csv` was aligned to that of `DataFrame.to_csv`, and argument 'header' will change its default value from False to True: please pass an explicit value to suppress this warning.\n",
      "  \"\"\"Entry point for launching an IPython kernel.\n"
     ]
    }
   ],
   "source": [
    "overall_place_sales.to_csv(\"overall_place_sales.csv\")"
   ]
  },
  {
   "cell_type": "code",
   "execution_count": 266,
   "metadata": {},
   "outputs": [],
   "source": [
    "place_sales = place_sales.rename(columns={\"NE\":\"North East\", \"NW\":\"North West\", \"SE\":\"South East\", \n",
    "                                          \"SW\":\"South West\", \"C\":\"Central\"})"
   ]
  },
  {
   "cell_type": "code",
   "execution_count": 268,
   "metadata": {},
   "outputs": [
    {
     "data": {
      "text/html": [
       "<div>\n",
       "<style scoped>\n",
       "    .dataframe tbody tr th:only-of-type {\n",
       "        vertical-align: middle;\n",
       "    }\n",
       "\n",
       "    .dataframe tbody tr th {\n",
       "        vertical-align: top;\n",
       "    }\n",
       "\n",
       "    .dataframe thead th {\n",
       "        text-align: right;\n",
       "    }\n",
       "</style>\n",
       "<table border=\"1\" class=\"dataframe\">\n",
       "  <thead>\n",
       "    <tr style=\"text-align: right;\">\n",
       "      <th></th>\n",
       "      <th>North East</th>\n",
       "      <th>North West</th>\n",
       "      <th>South East</th>\n",
       "      <th>South West</th>\n",
       "      <th>Central</th>\n",
       "    </tr>\n",
       "    <tr>\n",
       "      <th>Month, Year</th>\n",
       "      <th></th>\n",
       "      <th></th>\n",
       "      <th></th>\n",
       "      <th></th>\n",
       "      <th></th>\n",
       "    </tr>\n",
       "  </thead>\n",
       "  <tbody>\n",
       "    <tr>\n",
       "      <th>Jan-2016</th>\n",
       "      <td>1920995</td>\n",
       "      <td>1871601</td>\n",
       "      <td>1825056</td>\n",
       "      <td>1874274</td>\n",
       "      <td>1859053</td>\n",
       "    </tr>\n",
       "    <tr>\n",
       "      <th>Feb-2016</th>\n",
       "      <td>1959215</td>\n",
       "      <td>1960649</td>\n",
       "      <td>1933574</td>\n",
       "      <td>1969544</td>\n",
       "      <td>1859777</td>\n",
       "    </tr>\n",
       "    <tr>\n",
       "      <th>Mar-2016</th>\n",
       "      <td>2027678</td>\n",
       "      <td>1939014</td>\n",
       "      <td>1901402</td>\n",
       "      <td>2022124</td>\n",
       "      <td>1935039</td>\n",
       "    </tr>\n",
       "    <tr>\n",
       "      <th>Apr-2016</th>\n",
       "      <td>1997833</td>\n",
       "      <td>1946570</td>\n",
       "      <td>1908892</td>\n",
       "      <td>1990964</td>\n",
       "      <td>1872326</td>\n",
       "    </tr>\n",
       "    <tr>\n",
       "      <th>May-2016</th>\n",
       "      <td>2108274</td>\n",
       "      <td>1979297</td>\n",
       "      <td>2013220</td>\n",
       "      <td>2082809</td>\n",
       "      <td>1937812</td>\n",
       "    </tr>\n",
       "  </tbody>\n",
       "</table>\n",
       "</div>"
      ],
      "text/plain": [
       "             North East  North West  South East  South West  Central\n",
       "Month, Year                                                         \n",
       "Jan-2016        1920995     1871601     1825056     1874274  1859053\n",
       "Feb-2016        1959215     1960649     1933574     1969544  1859777\n",
       "Mar-2016        2027678     1939014     1901402     2022124  1935039\n",
       "Apr-2016        1997833     1946570     1908892     1990964  1872326\n",
       "May-2016        2108274     1979297     2013220     2082809  1937812"
      ]
     },
     "execution_count": 268,
     "metadata": {},
     "output_type": "execute_result"
    }
   ],
   "source": [
    "place_sales.head()"
   ]
  },
  {
   "cell_type": "code",
   "execution_count": 269,
   "metadata": {},
   "outputs": [],
   "source": [
    "place_sales.to_csv(\"place_sales.csv\")"
   ]
  },
  {
   "cell_type": "code",
   "execution_count": 211,
   "metadata": {},
   "outputs": [
    {
     "data": {
      "text/plain": [
       "<matplotlib.axes._subplots.AxesSubplot at 0x124218710>"
      ]
     },
     "execution_count": 211,
     "metadata": {},
     "output_type": "execute_result"
    },
    {
     "data": {
      "image/png": "[encoded data removed]",
      "text/plain": [
       "<Figure size 432x288 with 1 Axes>"
      ]
     },
     "metadata": {
      "needs_background": "light"
     },
     "output_type": "display_data"
    }
   ],
   "source": [
    "place_sales['NE'].plot.line()"
   ]
  },
  {
   "cell_type": "code",
   "execution_count": 212,
   "metadata": {},
   "outputs": [
    {
     "data": {
      "text/plain": [
       "<matplotlib.axes._subplots.AxesSubplot at 0x1243302b0>"
      ]
     },
     "execution_count": 212,
     "metadata": {},
     "output_type": "execute_result"
    },
    {
     "data": {
      "image/png": "[encoded data removed]",
      "text/plain": [
       "<Figure size 432x288 with 1 Axes>"
      ]
     },
     "metadata": {
      "needs_background": "light"
     },
     "output_type": "display_data"
    }
   ],
   "source": [
    "place_sales['NW'].plot.line()"
   ]
  },
  {
   "cell_type": "code",
   "execution_count": 213,
   "metadata": {},
   "outputs": [
    {
     "data": {
      "text/plain": [
       "<matplotlib.axes._subplots.AxesSubplot at 0x1243f8390>"
      ]
     },
     "execution_count": 213,
     "metadata": {},
     "output_type": "execute_result"
    },
    {
     "data": {
      "image/png": "[encoded data removed]",
      "text/plain": [
       "<Figure size 432x288 with 1 Axes>"
      ]
     },
     "metadata": {
      "needs_background": "light"
     },
     "output_type": "display_data"
    }
   ],
   "source": [
    "place_sales['SE'].plot.line()"
   ]
  },
  {
   "cell_type": "code",
   "execution_count": 214,
   "metadata": {},
   "outputs": [
    {
     "data": {
      "text/plain": [
       "<matplotlib.axes._subplots.AxesSubplot at 0x1244d4390>"
      ]
     },
     "execution_count": 214,
     "metadata": {},
     "output_type": "execute_result"
    },
    {
     "data": {
      "image/png": "[encoded data removed]",
      "text/plain": [
       "<Figure size 432x288 with 1 Axes>"
      ]
     },
     "metadata": {
      "needs_background": "light"
     },
     "output_type": "display_data"
    }
   ],
   "source": [
    "place_sales['SW'].plot.line()"
   ]
  },
  {
   "cell_type": "code",
   "execution_count": 215,
   "metadata": {},
   "outputs": [
    {
     "data": {
      "text/plain": [
       "<matplotlib.axes._subplots.AxesSubplot at 0x1245ae278>"
      ]
     },
     "execution_count": 215,
     "metadata": {},
     "output_type": "execute_result"
    },
    {
     "data": {
      "image/png": "[encoded data removed]",
      "text/plain": [
       "<Figure size 432x288 with 1 Axes>"
      ]
     },
     "metadata": {
      "needs_background": "light"
     },
     "output_type": "display_data"
    }
   ],
   "source": [
    "place_sales['C'].plot.line()"
   ]
  },
  {
   "cell_type": "code",
   "execution_count": null,
   "metadata": {},
   "outputs": [],
   "source": []
  }
 ],
 "metadata": {
  "kernelspec": {
   "display_name": "Python 3",
   "language": "python",
   "name": "python3"
  },
  "language_info": {
   "codemirror_mode": {
    "name": "ipython",
    "version": 3
   },
   "file_extension": ".py",
   "mimetype": "text/x-python",
   "name": "python",
   "nbconvert_exporter": "python",
   "pygments_lexer": "ipython3",
   "version": "3.7.3"
  }
 },
 "nbformat": 4,
 "nbformat_minor": 2
}
